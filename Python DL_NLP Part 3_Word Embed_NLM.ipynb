{
    "cells": [
        {
            "cell_type": "markdown", 
            "metadata": {}, 
            "source": "# Python DL_NLP Crash Course  Part 3_Word Embeding with Word2Vec & GloVe\n\n## Full Day Workshop for user learn Data Science with Python\n### 2017 Dec Timothy CL Lam\nThis is meant for internal usage, part of contents copied externally, not for commercial purpose\n"
        }, 
        {
            "cell_type": "markdown", 
            "metadata": {}, 
            "source": "## The Word Embedding Model\n### Recently, the field of natural language processing has been moving away from bag-of-word models and word encoding toward word embeddings. The bene\ft of word embeddings is that they encode each word into a dense vector that captures something about its relative meaning within the training text. This means that variations of words like case, spelling, punctuation, and so on will automatically be learned to be similar in the embedding space.\n\nWord embedding is an approach to provide a ** dense vector representation ** of words that capture\nsomething about their meaning. \n\nWord embeddings are an improvement over simpler bag-of-word\nmodel word encoding schemes like word counts and frequencies that result in ** large and sparse\nvectors (mostly 0 values) ** that describe documents but not the meaning of the words.\n\n\nWord embeddings work by using an algorithm to train a set of ** fixed-length dense ** and\n** continuous-valued vectors ** based on a large corpus of text. Each word is represented by a\npoint in the embedding space and these points are learned and moved around based on the\nwords that surround the target word. \n\nIt is defining a word by the company that it keeps that\nallows the word embedding to learn something about the meaning of words. The vector space\nrepresentation of the words provides a projection where words with similar meanings are locally\nclustered within the space.\n\nThe use of word embeddings over other text representations is one of the key methods that\nhas led to breakthrough performance with deep neural networks on problems like machine\ntranslation.\n"
        }, 
        {
            "cell_type": "markdown", 
            "metadata": {}, 
            "source": "Two approaches in this notebook: \n \n$$ Word2Vec $$ \n\nBy Google Researchers \n\n$$ GloVe $$\n\nBy Standford"
        }, 
        {
            "cell_type": "markdown", 
            "metadata": {}, 
            "source": "## Gensim\nGensim is an open source Python library for natural language processing, with a focus on topic\nmodeling. It is billed as \\topic modeling for humans\". Gensim was developed and is maintained\nby the Czech natural language processing researcher Radim Rehurek. Most notably for this tutorial, it supports an implementation of the Word2Vec word embedding\nfor learning new word vectors from text."
        }, 
        {
            "cell_type": "code", 
            "metadata": {}, 
            "source": "import gensim", 
            "execution_count": 3, 
            "outputs": []
        }, 
        {
            "cell_type": "markdown", 
            "metadata": {}, 
            "source": "## Word2Vec\n\nWord2Vec is one algorithm for learning a word embedding from a text corpus. There are two\nmain training algorithms that can be used to learn the embedding from text; they are \n\n$$ Continuous-Bag-of-Words(CBOW) $$\n\n$$ Skip grams $$\n\nWe will not get into the algorithms other than to say\nthat they generally look at a window of words for each target word to provide context and in\nturn meaning for words. The approach was developed by Tomas Mikolov, formerly at Google\nand currently at Facebook.\n\nWord2Vec models require a lot of text, e.g. the entire Wikipedia corpus. Nevertheless, we\nwill demonstrate the principles using a small in-memory example of text. Gensim provides the\nWord2Vec class for working with a Word2Vec model. Learning a word embedding from text\ninvolves loading and organizing the text into sentences and providing them to the constructor\nof a new Word2Vec() instance. For example:"
        }, 
        {
            "cell_type": "code", 
            "metadata": {
                "scrolled": true
            }, 
            "source": "#Specifically, each sentence must be tokenized, meaning divided into words and prepared (e.g.\n#perhaps pre-filtered and perhaps converted to a preferred case).\n\nsentences = '...'\nmodel = Word2Vec(sentences)", 
            "execution_count": 8, 
            "outputs": [
                {
                    "output_type": "error", 
                    "traceback": [
                        "\u001b[0;31m\u001b[0m", 
                        "\u001b[0;31mNameError\u001b[0mTraceback (most recent call last)", 
                        "\u001b[0;32m<ipython-input-8-406d429490c1>\u001b[0m in \u001b[0;36m<module>\u001b[0;34m()\u001b[0m\n\u001b[1;32m      3\u001b[0m \u001b[0;34m\u001b[0m\u001b[0m\n\u001b[1;32m      4\u001b[0m \u001b[0msentences\u001b[0m \u001b[0;34m=\u001b[0m\u001b[0;34m'...'\u001b[0m\u001b[0;34m\u001b[0m\u001b[0m\n\u001b[0;32m----> 5\u001b[0;31m \u001b[0mmodel\u001b[0m \u001b[0;34m=\u001b[0m \u001b[0mWord2Vec\u001b[0m\u001b[0;34m(\u001b[0m\u001b[0msentences\u001b[0m\u001b[0;34m)\u001b[0m\u001b[0;34m\u001b[0m\u001b[0m\n\u001b[0m", 
                        "\u001b[0;31mNameError\u001b[0m: name 'Word2Vec' is not defined"
                    ], 
                    "evalue": "name 'Word2Vec' is not defined", 
                    "ename": "NameError"
                }
            ]
        }, 
        {
            "cell_type": "markdown", 
            "metadata": {}, 
            "source": "There are many parameters on this constructor; a few noteworthy arguments you may\nwish to con\fgure are:\n\u0088 \n\n- ** size **: (default 100) The number of dimensions of the embedding, e.g. the length of the dense vector to represent each token (word).\n\n- **window**: (default 5) The maximum distance between a target word and words around the target word.\n\u0088\n- **min count**: (default 5) The minimum count of words to consider when training the model; words with an occurrence less than this count will be ignored.\n- **workers**: (default 3) The number of threads to use while training.\n\n- **sg**: (default 0 or CBOW) The training algorithm, either CBOW (0) or skip gram (1)."
        }, 
        {
            "cell_type": "markdown", 
            "metadata": {}, 
            "source": "### TIPS: \nThe defaults are often good enough when just getting started. If you have a lot of cores, as\nmost modern computers do, I strongly encourage you to increase workers to match the number\nof cores (e.g. 8). After the model is trained, it is accessible via the \n\n$$ wv $$\n\nattribute. This is the\nactual word vector model in which queries can be made. For example, you can print the learned\nvocabulary of tokens (words) as follows:"
        }, 
        {
            "cell_type": "code", 
            "metadata": {}, 
            "source": "words = list(model.wv.vocab)\nprint(words)\n\n#You can review the embedded vector for a specific token as follows:\n\nprint(model['word'])\n\n#Finally, a trained model can then be saved to file by calling the save word2vec format()\n#function on the word vector model. By default, the model is saved in a binary format to save space. For example:\nmodel.wv.save_word2vec_format('model.bin')\n\n#When getting started, you can save the learned model in ASCII format and review the contents. You can do this by setting binary=False\n#For Examples:\n\nmodel.wv.save_word2vec_format('model.txt', binary=False)\n\n# The saved model can then be loaded again by calling the Word2Vec.load() function. For example:\nmodel = Word2Vec.load('model.bin')", 
            "execution_count": 10, 
            "outputs": [
                {
                    "output_type": "error", 
                    "traceback": [
                        "\u001b[0;31m\u001b[0m", 
                        "\u001b[0;31mNameError\u001b[0mTraceback (most recent call last)", 
                        "\u001b[0;32m<ipython-input-10-7aa0c63491e5>\u001b[0m in \u001b[0;36m<module>\u001b[0;34m()\u001b[0m\n\u001b[0;32m----> 1\u001b[0;31m \u001b[0mwords\u001b[0m \u001b[0;34m=\u001b[0m \u001b[0mlist\u001b[0m\u001b[0;34m(\u001b[0m\u001b[0mmodel\u001b[0m\u001b[0;34m.\u001b[0m\u001b[0mwv\u001b[0m\u001b[0;34m.\u001b[0m\u001b[0mvocab\u001b[0m\u001b[0;34m)\u001b[0m\u001b[0;34m\u001b[0m\u001b[0m\n\u001b[0m\u001b[1;32m      2\u001b[0m \u001b[0;32mprint\u001b[0m\u001b[0;34m(\u001b[0m\u001b[0mwords\u001b[0m\u001b[0;34m)\u001b[0m\u001b[0;34m\u001b[0m\u001b[0m\n\u001b[1;32m      3\u001b[0m \u001b[0;34m\u001b[0m\u001b[0m\n\u001b[1;32m      4\u001b[0m \u001b[0;31m#You can review the embedded vector for a specific token as follows:\u001b[0m\u001b[0;34m\u001b[0m\u001b[0;34m\u001b[0m\u001b[0m\n\u001b[1;32m      5\u001b[0m \u001b[0;34m\u001b[0m\u001b[0m\n", 
                        "\u001b[0;31mNameError\u001b[0m: name 'model' is not defined"
                    ], 
                    "evalue": "name 'model' is not defined", 
                    "ename": "NameError"
                }
            ]
        }, 
        {
            "cell_type": "markdown", 
            "metadata": {}, 
            "source": "We can tie all of this together with a worked example. Rather than loading a large text\ndocument or corpus from \fle, we will work with a small, in-memory list of pre-tokenized\nsentences."
        }, 
        {
            "cell_type": "code", 
            "metadata": {}, 
            "source": "from gensim.models import Word2Vec\n\n#defining data\nsentences = [['this', 'is', 'the', 'first', 'sentence', 'for', 'word2vec'],\n['this', 'is', 'the', 'second', 'sentence'],\n['yet', 'another', 'sentence'],\n['one', 'more', 'sentence'],\n['and', 'the', 'final', 'sentence']]\n\n# train model\nmodel = Word2Vec(sentences, min_count=1)\n\nprint (model)\n\n# summarize vocabulary\nwords = list(model.wv.vocab)\nprint(words)\n\n", 
            "execution_count": 16, 
            "outputs": [
                {
                    "output_type": "stream", 
                    "name": "stdout", 
                    "text": "Word2Vec(vocab=14, size=100, alpha=0.025)\n['and', 'word2vec', 'for', 'sentence', 'this', 'is', 'one', 'second', 'another', 'the', 'first', 'yet', 'final', 'more']\n"
                }
            ]
        }, 
        {
            "cell_type": "code", 
            "metadata": {}, 
            "source": "# access vector for one word\nprint(model['sentence'])", 
            "execution_count": 17, 
            "outputs": [
                {
                    "output_type": "stream", 
                    "name": "stdout", 
                    "text": "[  1.09108200e-03  -1.50774524e-03  -3.20697599e-03  -9.94841801e-04\n   3.15078214e-04   4.37214086e-03  -3.69665888e-03  -3.33983405e-03\n  -4.54258965e-03   9.99633805e-04  -4.23612585e-03  -3.83223081e-03\n   4.32860339e-03  -3.25149111e-03   2.95695267e-03  -3.71881900e-03\n  -1.00519822e-03   4.84643737e-03  -3.53238801e-03   1.22420708e-04\n  -4.58742678e-03   3.71732470e-03  -4.15829709e-03  -3.93305486e-03\n  -8.70488118e-04  -4.59041959e-03   3.76840495e-03  -3.98694444e-03\n   1.56842021e-03   4.36723279e-03   1.75691827e-03   1.42543553e-03\n  -3.02267703e-03   1.56308757e-03   1.13664242e-03  -1.06631417e-03\n   4.95949062e-03   1.51077483e-03  -3.55202728e-03  -1.73709460e-03\n  -4.47266269e-03  -3.67703475e-03   3.55967181e-03  -7.38290721e-04\n   7.48101273e-04   2.56760861e-03   8.07312434e-04  -2.70612515e-03\n  -4.23209416e-03   3.43392487e-03   9.29186004e-04   4.30594292e-03\n  -1.68683392e-03   2.32448475e-03  -3.98656679e-03   4.22142725e-03\n   3.05290613e-03   2.75243446e-03   4.32301033e-03  -3.94099904e-03\n  -2.20075296e-03  -2.56885798e-03  -4.12407611e-03  -1.56984746e-03\n  -3.00061726e-03  -3.19348928e-03   2.11892696e-03  -4.91847843e-03\n  -2.95917527e-03  -2.72088544e-03  -3.68361338e-03   4.82129958e-03\n  -3.23147955e-03   7.92523380e-04  -1.13938085e-03   4.13301494e-03\n  -2.28527421e-03   1.18826900e-03   4.92700469e-03   1.03034917e-03\n  -2.92705768e-03   2.56462279e-03   3.56607517e-04   3.56026203e-03\n   7.45267535e-05  -4.00806777e-04  -3.83335561e-03  -1.51982182e-03\n  -1.27809716e-03  -3.43685434e-03  -3.12654581e-03   2.05130153e-03\n  -4.02728189e-03  -3.57793015e-03  -1.95463211e-03  -1.00961013e-03\n   2.47778278e-03  -1.26721070e-03  -3.62945604e-03  -1.76866830e-03]\n"
                }, 
                {
                    "output_type": "stream", 
                    "name": "stderr", 
                    "text": "/Applications/DataScienceStudio.app/Contents/Resources/kit/python.packages/ipykernel_launcher.py:2: DeprecationWarning: Call to deprecated `__getitem__` (Method will be removed in 4.0.0, use self.wv.__getitem__() instead).\n  \n"
                }
            ]
        }, 
        {
            "cell_type": "code", 
            "metadata": {}, 
            "source": "# save model\nmodel.save('model.bin')\n# load model\nnew_model = Word2Vec.load('model.bin')\nprint(new_model)", 
            "execution_count": 18, 
            "outputs": [
                {
                    "output_type": "stream", 
                    "name": "stdout", 
                    "text": "Word2Vec(vocab=14, size=100, alpha=0.025)\n"
                }
            ]
        }, 
        {
            "cell_type": "markdown", 
            "metadata": {}, 
            "source": "## Word Embedded Visualiazation\n\nAfter you learn word embedding for your text data, it can be nice to explore it with visualization.\nYou can use classical projection methods to reduce the high-dimensional word vectors to two-\ndimensional plots and plot them on a graph."
        }, 
        {
            "cell_type": "code", 
            "metadata": {}, 
            "source": "#We can retrieve all of the vectors from a trained model as follows\nX = model[model.wv.vocab]", 
            "execution_count": 19, 
            "outputs": [
                {
                    "output_type": "stream", 
                    "name": "stderr", 
                    "text": "/Applications/DataScienceStudio.app/Contents/Resources/kit/python.packages/ipykernel_launcher.py:2: DeprecationWarning: Call to deprecated `__getitem__` (Method will be removed in 4.0.0, use self.wv.__getitem__() instead).\n  \n"
                }
            ]
        }, 
        {
            "cell_type": "code", 
            "metadata": {
                "collapsed": true
            }, 
            "source": "from sklearn.decomposition import PCA\nfrom matplotlib import pyplot", 
            "execution_count": 20, 
            "outputs": []
        }, 
        {
            "cell_type": "code", 
            "metadata": {
                "collapsed": true
            }, 
            "source": "#create a 2-dimensional PCA model of the word vectors using the scikit-learn PCA class\npca = PCA(n_components=2)\nresult = pca.fit_transform(X)\n", 
            "execution_count": 21, 
            "outputs": []
        }, 
        {
            "cell_type": "code", 
            "metadata": {}, 
            "source": "#resulting projection can be plotted using Matplotlib as follows,\npyplot.scatter(result[:, 0], result[:, 1])", 
            "execution_count": 22, 
            "outputs": [
                {
                    "data": {
                        "text/plain": "<matplotlib.collections.PathCollection at 0x112c51650>"
                    }, 
                    "output_type": "execute_result", 
                    "metadata": {}, 
                    "execution_count": 22
                }
            ]
        }, 
        {
            "cell_type": "code", 
            "metadata": {}, 
            "source": "#one step further and annotate the points on the graph with the words themselves.\nwords = list(model.wv.vocab)\nfor i, word in enumerate(words):\n    pyplot.annotate(word, xy=(result[i, 0], result[i, 1]))", 
            "execution_count": 24, 
            "outputs": []
        }, 
        {
            "cell_type": "code", 
            "metadata": {}, 
            "source": "pyplot.show()", 
            "execution_count": 25, 
            "outputs": [
                {
                    "data": {
                        "image/png": "[encoded data removed]", 
                        "text/plain": "<matplotlib.figure.Figure at 0x1100e3290>"
                    }, 
                    "metadata": {}, 
                    "output_type": "display_data"
                }
            ]
        }, 
        {
            "cell_type": "code", 
            "metadata": {
                "collapsed": true
            }, 
            "source": "", 
            "execution_count": null, 
            "outputs": []
        }, 
        {
            "cell_type": "markdown", 
            "metadata": {}, 
            "source": "# Load Other Word Embedding for QuickStart\nTraining your own word vectors may be the best approach for a given NLP problem. But it\ncan take a long time, a fast computer with a lot of RAM and disk space, and perhaps some\nexpertise in \fnessing the input data and training algorithm. An alternative is to simply use an\nexisting pre-trained word embedding. \n\nA pre-trained model is nothing more than ** a file containing tokens and their associated word\nvectors. **\n\n## Google Word2Vec\n\nGoogle Word2Vec model was trained on Google news data (about 100\nbillion words); it contains 3 million words and phrases and was \ft using 300-dimensional word\nvectors. It is a 1.53 Gigabyte \fle. You can download it from here:GoogleNews-vectors-negative300.bin.gz.\nhttps://drive.google.com/file/d/0B7XkCwpI5KDYNlNUTTlSS21pQmM/edit?usp=sharing\n\n"
        }, 
        {
            "cell_type": "code", 
            "metadata": {
                "scrolled": true
            }, 
            "source": "# little linear algebra arithmetic with words. For example, \n#a popular example described in lectures and introduction papers is:\nqueen = (king - man) + woman", 
            "execution_count": 28, 
            "outputs": [
                {
                    "output_type": "error", 
                    "traceback": [
                        "\u001b[0;31m\u001b[0m", 
                        "\u001b[0;31mNameError\u001b[0mTraceback (most recent call last)", 
                        "\u001b[0;32m<ipython-input-28-15fad814170a>\u001b[0m in \u001b[0;36m<module>\u001b[0;34m()\u001b[0m\n\u001b[1;32m      1\u001b[0m \u001b[0;31m##Another interesting thing that you can do is do a little linear algebra arithmetic with words. For example, a popular example described in lectures and introduction papers is:\u001b[0m\u001b[0;34m\u001b[0m\u001b[0;34m\u001b[0m\u001b[0m\n\u001b[0;32m----> 2\u001b[0;31m \u001b[0mqueen\u001b[0m \u001b[0;34m=\u001b[0m \u001b[0;34m(\u001b[0m\u001b[0mking\u001b[0m \u001b[0;34m-\u001b[0m \u001b[0mman\u001b[0m\u001b[0;34m)\u001b[0m \u001b[0;34m+\u001b[0m \u001b[0mwoman\u001b[0m\u001b[0;34m\u001b[0m\u001b[0m\n\u001b[0m", 
                        "\u001b[0;31mNameError\u001b[0m: name 'king' is not defined"
                    ], 
                    "evalue": "name 'king' is not defined", 
                    "ename": "NameError"
                }
            ]
        }, 
        {
            "cell_type": "markdown", 
            "metadata": {}, 
            "source": "Running the example loads the Google pre-trained Word2Vec model and then calculates the\n(king - man) + woman = ? operation on the word vectors for those words. The answer, as we\nwould expect, is queen."
        }, 
        {
            "cell_type": "code", 
            "metadata": {
                "collapsed": true
            }, 
            "source": "from gensim.models import KeyedVectors\n# load the google word2vec model\nfilename = 'GoogleNews-vectors-negative300.bin'\nmodel = KeyedVectors.load_word2vec_format(filename, binary=True)\n# calculate: (king - man) + woman = ?\nresult = model.most_similar(positive=['woman', 'king'], negative=['man'], topn=1)\nprint(result)", 
            "execution_count": null, 
            "outputs": []
        }, 
        {
            "cell_type": "markdown", 
            "metadata": {}, 
            "source": "\n## Standford GloVe\nStanford researchers also have their own word embedding algorithm like Word2Vec called Global\nVectors for Word Representation, or GloVe for short.but generally, NLP practitioners seem to prefer GloVe at\nthe moment based on results.\n\nLike Word2Vec, the GloVe researchers also provide pre-trained word vectors, in this case, a\ngreat selection to choose from."
        }, 
        {
            "cell_type": "code", 
            "metadata": {
                "collapsed": true
            }, 
            "source": "from gensim.scripts.glove2word2vec import glove2word2vec\nglove_input_file = 'glove.txt'\nword2vec_output_file = 'word2vec.txt'\nglove2word2vec(glove_input_file, word2vec_output_file)", 
            "execution_count": 26, 
            "outputs": [
                {
                    "output_type": "error", 
                    "traceback": [
                        "\u001b[0;31m\u001b[0m", 
                        "\u001b[0;31mIOError\u001b[0mTraceback (most recent call last)", 
                        "\u001b[0;32m<ipython-input-26-d0237d64c41e>\u001b[0m in \u001b[0;36m<module>\u001b[0;34m()\u001b[0m\n\u001b[1;32m      2\u001b[0m \u001b[0mglove_input_file\u001b[0m \u001b[0;34m=\u001b[0m \u001b[0;34m'glove.txt'\u001b[0m\u001b[0;34m\u001b[0m\u001b[0m\n\u001b[1;32m      3\u001b[0m \u001b[0mword2vec_output_file\u001b[0m \u001b[0;34m=\u001b[0m \u001b[0;34m'word2vec.txt'\u001b[0m\u001b[0;34m\u001b[0m\u001b[0m\n\u001b[0;32m----> 4\u001b[0;31m \u001b[0mglove2word2vec\u001b[0m\u001b[0;34m(\u001b[0m\u001b[0mglove_input_file\u001b[0m\u001b[0;34m,\u001b[0m \u001b[0mword2vec_output_file\u001b[0m\u001b[0;34m)\u001b[0m\u001b[0;34m\u001b[0m\u001b[0m\n\u001b[0m", 
                        "\u001b[0;32m/Users/timothycllam/Library/DataScienceStudio/dss_home/pyenv/lib/python2.7/site-packages/gensim/scripts/glove2word2vec.pyc\u001b[0m in \u001b[0;36mglove2word2vec\u001b[0;34m(glove_input_file, word2vec_output_file)\u001b[0m\n\u001b[1;32m     40\u001b[0m \u001b[0;32mdef\u001b[0m \u001b[0mglove2word2vec\u001b[0m\u001b[0;34m(\u001b[0m\u001b[0mglove_input_file\u001b[0m\u001b[0;34m,\u001b[0m \u001b[0mword2vec_output_file\u001b[0m\u001b[0;34m)\u001b[0m\u001b[0;34m:\u001b[0m\u001b[0;34m\u001b[0m\u001b[0m\n\u001b[1;32m     41\u001b[0m     \u001b[0;34m\"\"\"Convert `glove_input_file` in GloVe format into `word2vec_output_file` in word2vec format.\"\"\"\u001b[0m\u001b[0;34m\u001b[0m\u001b[0m\n\u001b[0;32m---> 42\u001b[0;31m     \u001b[0mnum_lines\u001b[0m\u001b[0;34m,\u001b[0m \u001b[0mnum_dims\u001b[0m \u001b[0;34m=\u001b[0m \u001b[0mget_glove_info\u001b[0m\u001b[0;34m(\u001b[0m\u001b[0mglove_input_file\u001b[0m\u001b[0;34m)\u001b[0m\u001b[0;34m\u001b[0m\u001b[0m\n\u001b[0m\u001b[1;32m     43\u001b[0m     \u001b[0mlogger\u001b[0m\u001b[0;34m.\u001b[0m\u001b[0minfo\u001b[0m\u001b[0;34m(\u001b[0m\u001b[0;34m\"converting %i vectors from %s to %s\"\u001b[0m\u001b[0;34m,\u001b[0m \u001b[0mnum_lines\u001b[0m\u001b[0;34m,\u001b[0m \u001b[0mglove_input_file\u001b[0m\u001b[0;34m,\u001b[0m \u001b[0mword2vec_output_file\u001b[0m\u001b[0;34m)\u001b[0m\u001b[0;34m\u001b[0m\u001b[0m\n\u001b[1;32m     44\u001b[0m     \u001b[0;32mwith\u001b[0m \u001b[0msmart_open\u001b[0m\u001b[0;34m(\u001b[0m\u001b[0mword2vec_output_file\u001b[0m\u001b[0;34m,\u001b[0m \u001b[0;34m'wb'\u001b[0m\u001b[0;34m)\u001b[0m \u001b[0;32mas\u001b[0m \u001b[0mfout\u001b[0m\u001b[0;34m:\u001b[0m\u001b[0;34m\u001b[0m\u001b[0m\n", 
                        "\u001b[0;32m/Users/timothycllam/Library/DataScienceStudio/dss_home/pyenv/lib/python2.7/site-packages/gensim/scripts/glove2word2vec.pyc\u001b[0m in \u001b[0;36mget_glove_info\u001b[0;34m(glove_file_name)\u001b[0m\n\u001b[1;32m     31\u001b[0m \u001b[0;32mdef\u001b[0m \u001b[0mget_glove_info\u001b[0m\u001b[0;34m(\u001b[0m\u001b[0mglove_file_name\u001b[0m\u001b[0;34m)\u001b[0m\u001b[0;34m:\u001b[0m\u001b[0;34m\u001b[0m\u001b[0m\n\u001b[1;32m     32\u001b[0m     \u001b[0;34m\"\"\"Return the number of vectors and dimensions in a file in GloVe format.\"\"\"\u001b[0m\u001b[0;34m\u001b[0m\u001b[0m\n\u001b[0;32m---> 33\u001b[0;31m     \u001b[0;32mwith\u001b[0m \u001b[0msmart_open\u001b[0m\u001b[0;34m(\u001b[0m\u001b[0mglove_file_name\u001b[0m\u001b[0;34m)\u001b[0m \u001b[0;32mas\u001b[0m \u001b[0mf\u001b[0m\u001b[0;34m:\u001b[0m\u001b[0;34m\u001b[0m\u001b[0m\n\u001b[0m\u001b[1;32m     34\u001b[0m         \u001b[0mnum_lines\u001b[0m \u001b[0;34m=\u001b[0m \u001b[0msum\u001b[0m\u001b[0;34m(\u001b[0m\u001b[0;36m1\u001b[0m \u001b[0;32mfor\u001b[0m \u001b[0m_\u001b[0m \u001b[0;32min\u001b[0m \u001b[0mf\u001b[0m\u001b[0;34m)\u001b[0m\u001b[0;34m\u001b[0m\u001b[0m\n\u001b[1;32m     35\u001b[0m     \u001b[0;32mwith\u001b[0m \u001b[0msmart_open\u001b[0m\u001b[0;34m(\u001b[0m\u001b[0mglove_file_name\u001b[0m\u001b[0;34m)\u001b[0m \u001b[0;32mas\u001b[0m \u001b[0mf\u001b[0m\u001b[0;34m:\u001b[0m\u001b[0;34m\u001b[0m\u001b[0m\n", 
                        "\u001b[0;32m/Users/timothycllam/Library/DataScienceStudio/dss_home/pyenv/lib/python2.7/site-packages/smart_open/smart_open_lib.pyc\u001b[0m in \u001b[0;36msmart_open\u001b[0;34m(uri, mode, **kw)\u001b[0m\n\u001b[1;32m    174\u001b[0m             \u001b[0mencoding\u001b[0m \u001b[0;34m=\u001b[0m \u001b[0mkw\u001b[0m\u001b[0;34m.\u001b[0m\u001b[0mpop\u001b[0m\u001b[0;34m(\u001b[0m\u001b[0;34m'encoding'\u001b[0m\u001b[0;34m,\u001b[0m \u001b[0mNone\u001b[0m\u001b[0;34m)\u001b[0m\u001b[0;34m\u001b[0m\u001b[0m\n\u001b[1;32m    175\u001b[0m             \u001b[0merrors\u001b[0m \u001b[0;34m=\u001b[0m \u001b[0mkw\u001b[0m\u001b[0;34m.\u001b[0m\u001b[0mpop\u001b[0m\u001b[0;34m(\u001b[0m\u001b[0;34m'errors'\u001b[0m\u001b[0;34m,\u001b[0m \u001b[0mDEFAULT_ERRORS\u001b[0m\u001b[0;34m)\u001b[0m\u001b[0;34m\u001b[0m\u001b[0m\n\u001b[0;32m--> 176\u001b[0;31m             \u001b[0;32mreturn\u001b[0m \u001b[0mfile_smart_open\u001b[0m\u001b[0;34m(\u001b[0m\u001b[0mparsed_uri\u001b[0m\u001b[0;34m.\u001b[0m\u001b[0muri_path\u001b[0m\u001b[0;34m,\u001b[0m \u001b[0mmode\u001b[0m\u001b[0;34m,\u001b[0m \u001b[0mencoding\u001b[0m\u001b[0;34m=\u001b[0m\u001b[0mencoding\u001b[0m\u001b[0;34m,\u001b[0m \u001b[0merrors\u001b[0m\u001b[0;34m=\u001b[0m\u001b[0merrors\u001b[0m\u001b[0;34m)\u001b[0m\u001b[0;34m\u001b[0m\u001b[0m\n\u001b[0m\u001b[1;32m    177\u001b[0m         \u001b[0;32melif\u001b[0m \u001b[0mparsed_uri\u001b[0m\u001b[0;34m.\u001b[0m\u001b[0mscheme\u001b[0m \u001b[0;32min\u001b[0m \u001b[0;34m(\u001b[0m\u001b[0;34m\"s3\"\u001b[0m\u001b[0;34m,\u001b[0m \u001b[0;34m\"s3n\"\u001b[0m\u001b[0;34m,\u001b[0m \u001b[0;34m's3u'\u001b[0m\u001b[0;34m)\u001b[0m\u001b[0;34m:\u001b[0m\u001b[0;34m\u001b[0m\u001b[0m\n\u001b[1;32m    178\u001b[0m             \u001b[0;32mreturn\u001b[0m \u001b[0ms3_open_uri\u001b[0m\u001b[0;34m(\u001b[0m\u001b[0mparsed_uri\u001b[0m\u001b[0;34m,\u001b[0m \u001b[0mmode\u001b[0m\u001b[0;34m,\u001b[0m \u001b[0;34m**\u001b[0m\u001b[0mkw\u001b[0m\u001b[0;34m)\u001b[0m\u001b[0;34m\u001b[0m\u001b[0m\n", 
                        "\u001b[0;32m/Users/timothycllam/Library/DataScienceStudio/dss_home/pyenv/lib/python2.7/site-packages/smart_open/smart_open_lib.pyc\u001b[0m in \u001b[0;36mfile_smart_open\u001b[0;34m(fname, mode, encoding, errors)\u001b[0m\n\u001b[1;32m    669\u001b[0m     \u001b[0;32mexcept\u001b[0m \u001b[0mKeyError\u001b[0m\u001b[0;34m:\u001b[0m\u001b[0;34m\u001b[0m\u001b[0m\n\u001b[1;32m    670\u001b[0m         \u001b[0mraw_mode\u001b[0m \u001b[0;34m=\u001b[0m \u001b[0mmode\u001b[0m\u001b[0;34m\u001b[0m\u001b[0m\n\u001b[0;32m--> 671\u001b[0;31m     \u001b[0mraw_fobj\u001b[0m \u001b[0;34m=\u001b[0m \u001b[0mopen\u001b[0m\u001b[0;34m(\u001b[0m\u001b[0mfname\u001b[0m\u001b[0;34m,\u001b[0m \u001b[0mraw_mode\u001b[0m\u001b[0;34m)\u001b[0m\u001b[0;34m\u001b[0m\u001b[0m\n\u001b[0m\u001b[1;32m    672\u001b[0m     \u001b[0mdecompressed_fobj\u001b[0m \u001b[0;34m=\u001b[0m \u001b[0mcompression_wrapper\u001b[0m\u001b[0;34m(\u001b[0m\u001b[0mraw_fobj\u001b[0m\u001b[0;34m,\u001b[0m \u001b[0mfname\u001b[0m\u001b[0;34m,\u001b[0m \u001b[0mraw_mode\u001b[0m\u001b[0;34m)\u001b[0m\u001b[0;34m\u001b[0m\u001b[0m\n\u001b[1;32m    673\u001b[0m     \u001b[0mdecoded_fobj\u001b[0m \u001b[0;34m=\u001b[0m \u001b[0mencoding_wrapper\u001b[0m\u001b[0;34m(\u001b[0m\u001b[0mdecompressed_fobj\u001b[0m\u001b[0;34m,\u001b[0m \u001b[0mmode\u001b[0m\u001b[0;34m,\u001b[0m \u001b[0mencoding\u001b[0m\u001b[0;34m=\u001b[0m\u001b[0mencoding\u001b[0m\u001b[0;34m,\u001b[0m \u001b[0merrors\u001b[0m\u001b[0;34m=\u001b[0m\u001b[0merrors\u001b[0m\u001b[0;34m)\u001b[0m\u001b[0;34m\u001b[0m\u001b[0m\n", 
                        "\u001b[0;31mIOError\u001b[0m: [Errno 2] No such file or directory: 'glove.txt'"
                    ], 
                    "evalue": "[Errno 2] No such file or directory: 'glove.txt'", 
                    "ename": "IOError"
                }
            ]
        }, 
        {
            "cell_type": "markdown", 
            "metadata": {}, 
            "source": "# Learn and Load Word Embeddings in Kera\n\n- About word embeddings and that Keras supports word embeddings via the Embedding layer.\n- How to learn a word embedding while \ftting a neural network.\n- How to use a pre-trained word embedding in a neural network."
        }, 
        {
            "cell_type": "markdown", 
            "metadata": {}, 
            "source": "## Keras Embedding Layer\nKeras offrs an Embedding layer that can be used for neural networks on text data. It requires\nthat the input data be integer encoded, so that each word is represented by a unique integer.\n\nThis data preparation step can be performed using the ** Tokenizer API ** also provided with Keras.\n\nThe Embedding layer is initialized with random weights and will learn an embedding for all\nof the words in the training dataset. \n\nIt is a flexible layer that can be used in a variety of ways, such as:\n\u0088 \n- It can be used alone to learn a word embedding that can be saved and used in another model later.\n- It can be used as part of a deep learning model where the embedding is learned along with the model itself.\n- It can be used to load a pre-trained word embedding model, a type of transfer learning."
        }, 
        {
            "cell_type": "markdown", 
            "metadata": {}, 
            "source": "## Embedding Layer in Hidden\nThe Embedding layer is de\fned as the \frst hidden layer of a network. It must specify 3 arguments:"
        }, 
        {
            "cell_type": "markdown", 
            "metadata": {}, 
            "source": "** Input dim:**\n\nThis is the size of the vocabulary in the text data. For example, if your data\nis integer encoded to values between 0-10, then the size of the vocabulary would be 11\nwords.\n\n** Output dim:** \n\nThis is the size of the vector space in which words will be embedded. It\nde\fnes the size of the output vectors from this layer for each word. For example, it could\nbe 32 or 100 or even larger. Test di\u000berent values for your problem.\n\n** input length: **\n\nThis is the length of input sequences, as you would de\fne for any input\nlayer of a Keras model. For example, if all of your input documents are comprised of 1000\nwords, this would be 1000."
        }, 
        {
            "cell_type": "code", 
            "metadata": {
                "collapsed": true
            }, 
            "source": "e = Embedding(200, 32, input_length=50)", 
            "execution_count": null, 
            "outputs": []
        }, 
        {
            "cell_type": "markdown", 
            "metadata": {}, 
            "source": "For example, Above we de\fne an Embedding layer with a vocabulary of 200 (e.g. integer\nencoded words from 0 to 199, inclusive), a vector space of 32 dimensions in which words will be\nembedded, and input documents that have 50 words each."
        }, 
        {
            "cell_type": "markdown", 
            "metadata": {}, 
            "source": "## Connect to Dense Layer after Embedding\n### From 2D with weight to 1D array\nThe Embedding layer has weights that are learned. If you save your model to \fle, this will\ninclude weights for the Embedding layer. The output of the Embedding layer is a 2D vector with\none embedding for each word in the input sequence of words (input document). If you wish\nto connect a Dense layer directly to an Embedding layer, you must \frst \natten the 2D output\nmatrix to a 1D vector using the\n\n$$ Flatten-layer $$"
        }, 
        {
            "cell_type": "markdown", 
            "metadata": {}, 
            "source": "# Simple Project\nIn this section, we will look at how we can learn a word embedding while \ftting a neural\nnetwork on a text classi\fcation problem. We will de\fne a small problem where we have 10\ntext documents, each with a comment about a piece of work a student submitted. Each text\ndocument is classi\fed as positive 1 or negative 0. This is a simple sentiment analysis problem.\nFirst, we will de\fne the documents and their class labels."
        }, 
        {
            "cell_type": "code", 
            "metadata": {}, 
            "source": "from keras.preprocessing.text import one_hot\nfrom keras.preprocessing.sequence import pad_sequences\nfrom keras.models import Sequential\nfrom keras.layers import Dense\nfrom keras.layers import Flatten\nfrom keras.layers.embeddings import Embedding", 
            "execution_count": 32, 
            "outputs": [
                {
                    "output_type": "stream", 
                    "name": "stderr", 
                    "text": "Using TensorFlow backend.\n"
                }
            ]
        }, 
        {
            "cell_type": "code", 
            "metadata": {
                "collapsed": true
            }, 
            "source": "# define documents\ndocs = ['Well done!',\n'Good work',\n'Great effort',\n'nice work',\n'Excellent!',\n'Weak',\n'Poor effort!',\n'not good',\n'poor work',\n'Could have done better.']\n# define class labels\nlabels = [1,1,1,1,1,0,0,0,0,0]", 
            "execution_count": 29, 
            "outputs": []
        }, 
        {
            "cell_type": "markdown", 
            "metadata": {}, 
            "source": "Next, we can ** integer encode ** each document. \n\nThis means that as input the Embedding layer will have sequences of integers. \n\nWe could experiment with other more sophisticated bag of word model encoding like counts or ** TF-IDF **. \n\nKeras provides the ** one hot()** function that creates a hash of each word as an effcient integer encoding. \n\nWe will estimate the ** vocabulary size ** of 50, which is much larger than needed to reduce the probability of collisions from the hash function."
        }, 
        {
            "cell_type": "code", 
            "metadata": {
                "scrolled": true
            }, 
            "source": "# integer encode the documents\nvocab_size = 50\nencoded_docs = [one_hot(d, vocab_size) for d in docs]\nprint(encoded_docs)", 
            "execution_count": 33, 
            "outputs": [
                {
                    "output_type": "stream", 
                    "name": "stdout", 
                    "text": "[[25, 48], [18, 22], [39, 3], [17, 22], [28], [37], [3, 3], [40, 18], [3, 22], [40, 19, 48, 4]]\n"
                }
            ]
        }, 
        {
            "cell_type": "markdown", 
            "metadata": {
                "collapsed": true
            }, 
            "source": "### Sequence Length with Paddling\n\nThe sequences have di\u000berent lengths and Keras prefers inputs to be vectorized and all inputs\nto have the same length. We will pad all input sequences to have the length of 4. Again, we can\ndo this with a built in Keras function, in this case the pad sequences() function."
        }, 
        {
            "cell_type": "code", 
            "metadata": {
                "scrolled": true
            }, 
            "source": "# pad documents to a max length of 4 words\nmax_length = 4\npadded_docs = pad_sequences(encoded_docs, maxlen=max_length, padding='post')\nprint(padded_docs)", 
            "execution_count": 34, 
            "outputs": [
                {
                    "output_type": "stream", 
                    "name": "stdout", 
                    "text": "[[25 48  0  0]\n [18 22  0  0]\n [39  3  0  0]\n [17 22  0  0]\n [28  0  0  0]\n [37  0  0  0]\n [ 3  3  0  0]\n [40 18  0  0]\n [ 3 22  0  0]\n [40 19 48  4]]\n"
                }
            ]
        }, 
        {
            "cell_type": "markdown", 
            "metadata": {}, 
            "source": "## Put in Part of Neural Netork Model\n\nWe are now ready to de\fne our Embedding layer as part of our neural network model.\nThe Embedding layer has a vocabulary of 50 and an input length of 4. \n\nWe will choose a small embedding space of ** 8 dimensions. ** The model is a simple binary classi\fcation model.\n\n\nImportantly, the output from the Embedding layer will be 4 vectors of 8 dimensions each, one for each word. We  flatten this to a one 32-element vector to pass on to the Dense output layer.\n\n$$ 4 * 8 = 32 $$"
        }, 
        {
            "cell_type": "code", 
            "metadata": {}, 
            "source": "# define the model\nmodel = Sequential()\nmodel.add(Embedding(vocab_size, 8, input_length=max_length))\nmodel.add(Flatten())\nmodel.add(Dense(1, activation='sigmoid'))\n# compile the model\nmodel.compile(optimizer='adam', loss='binary_crossentropy', metrics=['acc'])\n# summarize the model\nmodel.summary()", 
            "execution_count": 35, 
            "outputs": [
                {
                    "output_type": "stream", 
                    "name": "stdout", 
                    "text": "_________________________________________________________________\nLayer (type)                 Output Shape              Param #   \n=================================================================\nembedding_1 (Embedding)      (None, 4, 8)              400       \n_________________________________________________________________\nflatten_1 (Flatten)          (None, 32)                0         \n_________________________________________________________________\ndense_1 (Dense)              (None, 1)                 33        \n=================================================================\nTotal params: 433\nTrainable params: 433\nNon-trainable params: 0\n_________________________________________________________________\n"
                }
            ]
        }, 
        {
            "cell_type": "code", 
            "metadata": {}, 
            "source": "# fit the model\nmodel.fit(padded_docs, labels, epochs=40, verbose=0)\n# evaluate the model\nloss, accuracy = model.evaluate(padded_docs, labels, verbose=0)\nprint('Accuracy: %f' % (accuracy*100))", 
            "execution_count": 39, 
            "outputs": [
                {
                    "output_type": "stream", 
                    "name": "stdout", 
                    "text": "Accuracy: 100.000000\n"
                }
            ]
        }, 
        {
            "cell_type": "markdown", 
            "metadata": {}, 
            "source": "You could save the learned weights from the Embedding layer to \fle for later use in other\nmodels. You could also use this model generally to classify other documents that have the\nsame kind vocabulary seen in the test dataset."
        }, 
        {
            "cell_type": "markdown", 
            "metadata": {}, 
            "source": "## Reuse Pre-trained GloVe Embedding\n\nIt is common in the field of Natural Language Processing to learn, save, and make freely available word\nembeddings. For example, the researchers behind GloVe method provide a suite of pre-trained\nword embeddings on their website released under a public domain license."
        }, 
        {
            "cell_type": "markdown", 
            "metadata": {}, 
            "source": "## Download 800 MB file then run the sample\n\n\nThis example is inspired by an example in the Keras project: pretrained word embeddings.py.\nAfter downloading and unzipping, you will see a few \fles, one of which is glove.6B.100d.txt,\nwhich contains a 100-dimensional version of the embedding. If you peek inside the \fle, you will\nsee a token (word) followed by the weights (100 numbers) on each line. For example, below are\nthe \frst line of the embedding ASCII text \fle showing the embedding for the."
        }, 
        {
            "cell_type": "code", 
            "metadata": {
                "collapsed": true
            }, 
            "source": "from numpy import asarray\nfrom numpy import zeros\nfrom keras.preprocessing.text import Tokenizer\n", 
            "execution_count": 42, 
            "outputs": []
        }, 
        {
            "cell_type": "code", 
            "metadata": {
                "scrolled": true
            }, 
            "source": "# define documents\ndocs = ['Well done!',\n'Good work',\n'Great effort',\n'nice work',\n'Excellent!',\n'Weak',\n'Poor effort!',\n'not good',\n'poor work',\n'Could have done better.']\n# define class labels\nlabels = [1,1,1,1,1,0,0,0,0,0]\n# prepare tokenizer\nt = Tokenizer()\nt.fit_on_texts(docs)\nvocab_size = len(t.word_index) + 1\n# integer encode the documents\nencoded_docs = t.texts_to_sequences(docs)\nprint(encoded_docs)\n# pad documents to a max length of 4 words\nmax_length = 4\npadded_docs = pad_sequences(encoded_docs, maxlen=max_length, padding='post')\nprint(padded_docs)", 
            "execution_count": 43, 
            "outputs": [
                {
                    "output_type": "stream", 
                    "name": "stdout", 
                    "text": "[[6, 2], [3, 1], [7, 4], [8, 1], [9], [10], [5, 4], [11, 3], [5, 1], [12, 13, 2, 14]]\n[[ 6  2  0  0]\n [ 3  1  0  0]\n [ 7  4  0  0]\n [ 8  1  0  0]\n [ 9  0  0  0]\n [10  0  0  0]\n [ 5  4  0  0]\n [11  3  0  0]\n [ 5  1  0  0]\n [12 13  2 14]]\n"
                }
            ]
        }, 
        {
            "cell_type": "markdown", 
            "metadata": {}, 
            "source": "## Load the pre-trained GloVe data "
        }, 
        {
            "cell_type": "code", 
            "metadata": {
                "collapsed": true
            }, 
            "source": "# load the whole embedding into memory\nembeddings_index = dict()\nf = open('glove.6B.100d.txt')\n    for line in f:\n    values = line.split()\n    word = values[0]\n    coefs = asarray(values[1:], dtype='float32')\n    embeddings_index[word] = coefs\nf.close()\nprint('Loaded %s word vectors.' % len(embeddings_index))", 
            "execution_count": null, 
            "outputs": []
        }, 
        {
            "cell_type": "markdown", 
            "metadata": {}, 
            "source": "Next, we need to create a matrix of one embedding for each word in the training\ndataset. We can do that by ** enumerating all unique words in the Tokenizer.word index **\n\nLocating the embedding weight vector from the loaded GloVe embedding. The result is a matrix\nof weights only for words we will see during training."
        }, 
        {
            "cell_type": "code", 
            "metadata": {
                "collapsed": true
            }, 
            "source": "# create a weight matrix for words in training docs\nembedding_matrix = zeros((vocab_size, 100))\nfor word, i in t.word_index.items():\nembedding_vector = embeddings_index.get(word)\nif embedding_vector is not None:\nembedding_matrix[i] = embedding_vector", 
            "execution_count": null, 
            "outputs": []
        }, 
        {
            "cell_type": "markdown", 
            "metadata": {}, 
            "source": "Now we can define our model, fit, and evaluate it as before. \n\nThe key difference is that the Embedding layer can be seeded with the GloVe word embedding weights.\n\n** We chose the 100-dimensional version, therefore the Embedding layer must be defied with output dim set to 100 **\n\nFinally, we do not want to update the learned word weights in this model, therefore we  will set the trainable attribute for the model to be False."
        }, 
        {
            "cell_type": "code", 
            "metadata": {
                "collapsed": true
            }, 
            "source": "e = Embedding(vocab_size, 100, weights=[embedding_matrix], input_length=4, trainable=False)", 
            "execution_count": null, 
            "outputs": []
        }, 
        {
            "cell_type": "markdown", 
            "metadata": {}, 
            "source": "## General Tips\n\nBy experience it is usually good to disconnect (or remove) punctuation from\nwords, and sometimes also convert all characters to lowercase. One can also replace\nall numbers (possibly greater than some constant) with some single token such as .\nAll these pre-processing steps aim to reduce the vocabulary size without removing\nany important content (which in some cases may not be true when you lowercase\ncertain words, ie. `Bush' is di\u000berent than `bush', while `Another' has usually the\nsame sense as `another'). The smaller the vocabulary is, the lower is the memory\ncomplexity, and the more robustly are the parameters for the words estimated. You\nalso have to pre-process the test data in the same way."
        }
    ], 
    "nbformat": 4, 
    "metadata": {
        "kernelspec": {
            "display_name": "Python 2 with Spark 1.6 (Unsupported)", 
            "language": "python", 
            "name": "python2"
        }, 
        "language_info": {
            "version": "2.7.11", 
            "mimetype": "text/x-python", 
            "nbconvert_exporter": "python", 
            "file_extension": ".py", 
            "codemirror_mode": {
                "version": 2, 
                "name": "ipython"
            }, 
            "name": "python", 
            "pygments_lexer": "ipython2"
        }
    }, 
    "nbformat_minor": 1
}
