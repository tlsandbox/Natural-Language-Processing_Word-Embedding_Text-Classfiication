{
    "metadata": {
        "language_info": {
            "name": "python", 
            "mimetype": "text/x-python", 
            "nbconvert_exporter": "python", 
            "pygments_lexer": "ipython2", 
            "codemirror_mode": {
                "name": "ipython", 
                "version": 2
            }, 
            "file_extension": ".py", 
            "version": "2.7.11"
        }, 
        "kernelspec": {
            "display_name": "Python 2 with Spark 2.1", 
            "name": "python2-spark21", 
            "language": "python"
        }
    }, 
    "nbformat": 4, 
    "cells": [
        {
            "metadata": {}, 
            "source": "# Python DL_NLP Crash Course_Part 5: Language Modelling with LSTM\n\n## Full Day Workshop for user learn Data Science with Python\n### 2017 Dec Timothy CL Lam\nThis is meant for internal usage, part of contents copied externally, not for commercial purpose\n", 
            "cell_type": "markdown"
        }, 
        {
            "source": "# The code was removed by DSX for sharing.", 
            "metadata": {}, 
            "execution_count": 3, 
            "cell_type": "code", 
            "outputs": [
                {
                    "data": {
                        "text/html": "<div>\n<style scoped>\n    .dataframe tbody tr th:only-of-type {\n        vertical-align: middle;\n    }\n\n    .dataframe tbody tr th {\n        vertical-align: top;\n    }\n\n    .dataframe thead th {\n        text-align: right;\n    }\n</style>\n<table border=\"1\" class=\"dataframe\">\n  <thead>\n    <tr style=\"text-align: right;\">\n      <th></th>\n      <th>YEAR</th>\n      <th>QUARTER</th>\n      <th>QUARTER_YEAR</th>\n      <th>CHURN_RATE</th>\n    </tr>\n  </thead>\n  <tbody>\n    <tr>\n      <th>0</th>\n      <td>2014</td>\n      <td>1</td>\n      <td>1Q14</td>\n      <td>18.1</td>\n    </tr>\n    <tr>\n      <th>1</th>\n      <td>2014</td>\n      <td>2</td>\n      <td>2Q14</td>\n      <td>18.7</td>\n    </tr>\n    <tr>\n      <th>2</th>\n      <td>2014</td>\n      <td>3</td>\n      <td>3Q14</td>\n      <td>19.3</td>\n    </tr>\n    <tr>\n      <th>3</th>\n      <td>2014</td>\n      <td>4</td>\n      <td>4Q14</td>\n      <td>19.9</td>\n    </tr>\n    <tr>\n      <th>4</th>\n      <td>2015</td>\n      <td>1</td>\n      <td>1Q15</td>\n      <td>20.5</td>\n    </tr>\n  </tbody>\n</table>\n</div>", 
                        "text/plain": "   YEAR  QUARTER QUARTER_YEAR  CHURN_RATE\n0  2014        1         1Q14        18.1\n1  2014        2         2Q14        18.7\n2  2014        3         3Q14        19.3\n3  2014        4         4Q14        19.9\n4  2015        1         1Q15        20.5"
                    }, 
                    "metadata": {}, 
                    "execution_count": 3, 
                    "output_type": "execute_result"
                }
            ]
        }, 
        {
            "source": "", 
            "metadata": {}, 
            "execution_count": null, 
            "cell_type": "code", 
            "outputs": []
        }, 
        {
            "metadata": {}, 
            "source": "## Language Model\n- A language model predicts the next word in the sequence based on the speci\fc words that have\ncome before it in the sequence. ", 
            "cell_type": "markdown"
        }, 
        {
            "metadata": {}, 
            "source": "# Character-Based Neural Language Model\n\n- It is possible to develop language models at the character\nlevel using neural networks. \n- The benefit of character-based language models is their small\nvocabulary and \nexibility in handling any words, punctuation, and other document structure.\n- This comes at the cost of requiring larger models that are slower to train.", 
            "cell_type": "markdown"
        }, 
        {
            "metadata": {}, 
            "source": "# Sing a song of Experience\n- The nursery rhyme Sing a Song of Sixpence is well known in the west. \n- The first verse is common,\nbut there is also a 4 verse version that we will use to develop our character-based language\nmodel.", 
            "cell_type": "markdown"
        }, 
        {
            "source": "Sing a song of sixpence,\nA pocket full of rye.\nFour and twenty blackbirds,\nBaked in a pie.\nWhen the pie was opened\nThe birds began to sing;\nWasn't that a dainty dish,\nTo set before the king.\nThe king was in his counting house,\nCounting out his money;\nThe queen was in the parlour,\nEating bread and honey.\nThe maid was in the garden,\nHanging out the clothes,\nWhen down came a blackbird\nAnd pecked off her nose.", 
            "metadata": {}, 
            "execution_count": 1, 
            "cell_type": "code", 
            "outputs": [
                {
                    "ename": "SyntaxError", 
                    "output_type": "error", 
                    "evalue": "invalid syntax (<ipython-input-1-67d65fddc005>, line 1)", 
                    "traceback": [
                        "\u001b[0;36m  File \u001b[0;32m\"<ipython-input-1-67d65fddc005>\"\u001b[0;36m, line \u001b[0;32m1\u001b[0m\n\u001b[0;31m    Sing a song of sixpence,\u001b[0m\n\u001b[0m         ^\u001b[0m\n\u001b[0;31mSyntaxError\u001b[0m\u001b[0;31m:\u001b[0m invalid syntax\n"
                    ]
                }
            ]
        }, 
        {
            "metadata": {}, 
            "source": "# Data Preparation\n## Language Model Design\n- A language model must be trained on the text, and in the case of a character-based language\nmodel, the input and output sequences must be characters. \n- The number of characters used\nas input will also define the number of characters that will need to be provided to the model\nin order to elicit the first predicted character.\n- Longer sequences o\u000ber more context for the model to learn what character to output next\nbut take longer to train and impose more burden on seeding the model when generating text.\n- We will use an arbitrary length of 10 characters for this model.", 
            "cell_type": "markdown"
        }, 
        {
            "metadata": {}, 
            "source": "#### We must load the text into memory so that we can work with it. Below is a function named load doc()", 
            "cell_type": "markdown"
        }, 
        {
            "source": "# load doc into memory\ndef load_doc(file):\n    # open the file as read only\n    file = open(filename, 'r')\n    # read all text\n    text = file.read()\n    # close the file\n    file.close()\n    return text", 
            "metadata": {}, 
            "execution_count": 6, 
            "cell_type": "code", 
            "outputs": []
        }, 
        {
            "source": "# The code was removed by DSX for sharing.", 
            "metadata": {}, 
            "execution_count": 7, 
            "cell_type": "code", 
            "outputs": []
        }, 
        {
            "source": "import requests, StringIO, pandas as pd, json, re", 
            "metadata": {}, 
            "execution_count": 8, 
            "cell_type": "code", 
            "outputs": []
        }, 
        {
            "source": "def get_file_content(credentials):\n    \"\"\"For given credentials, this functions returns a StringIO object containing the file content.\"\"\"\n    \n    url1 = ''.join([credentials['auth_url'], '/v3/auth/tokens'])\n    data = {'auth': {'identity': {'methods': ['password'],\n            'password': {'user': {'name': credentials['username'],'domain': {'id': credentials['domain_id']},\n            'password': credentials['password']}}}}}\n    headers1 = {'Content-Type': 'application/json'}\n    resp1 = requests.post(url=url1, data=json.dumps(data), headers=headers1)\n    resp1_body = resp1.json()    \n    for e1 in resp1_body['token']['catalog']:\n        if(e1['type']=='object-store'):\n            for e2 in e1['endpoints']:\n                if(e2['interface']=='public'and e2['region']==credentials['region']):\n                    url2 = ''.join([e2['url'],'/', credentials['container'], '/', credentials['filename']])\n    s_subject_token = resp1.headers['x-subject-token']\n    headers2 = {'X-Auth-Token': s_subject_token, 'accept': 'application/json'}\n    resp2 = requests.get(url=url2, headers=headers2)\n    return StringIO.StringIO(resp2.content)", 
            "metadata": {}, 
            "execution_count": 105, 
            "cell_type": "code", 
            "outputs": []
        }, 
        {
            "source": "content_string = get_file_content(credentials_1)\nraw_text = content_string.getvalue()\nprint raw_text", 
            "metadata": {
                "scrolled": true
            }, 
            "execution_count": 106, 
            "cell_type": "code", 
            "outputs": [
                {
                    "name": "stdout", 
                    "output_type": "stream", 
                    "text": "\r\n"
                }
            ]
        }, 
        {
            "source": "raw_text = raw_text[:-3]", 
            "metadata": {}, 
            "execution_count": 107, 
            "cell_type": "code", 
            "outputs": []
        }, 
        {
            "source": "raw_text[:]", 
            "metadata": {
                "scrolled": true
            }, 
            "execution_count": 108, 
            "cell_type": "code", 
            "outputs": [
                {
                    "data": {
                        "text/plain": "\"Sing a song of sixpence,\\rA pocket full of rye.\\rFour and twenty blackbirds,\\rBaked in a pie.\\rWhen the pie was opened\\rThe birds began to sing;\\rWasn' t that a dainty dish,\\rTo set before the king.\\rThe king was in his counting house,\\rCounting out his money;\\rThe queen was in the parlour,\\rEating bread and honey.\\rThe maid was in the garden,\\rHanging out the clothes,\\rWhen down came a blackbird\\rAnd pecked off her nose\""
                    }, 
                    "metadata": {}, 
                    "execution_count": 108, 
                    "output_type": "execute_result"
                }
            ]
        }, 
        {
            "metadata": {}, 
            "source": "## Clean Text\n- we will strip all of the new line characters \n- so that we have one long sequence of characters\nseparated only by white space.", 
            "cell_type": "markdown"
        }, 
        {
            "source": "# clean\ntokens = raw_text.split()\nraw_text = ' '.join(tokens)", 
            "metadata": {}, 
            "execution_count": 148, 
            "cell_type": "code", 
            "outputs": []
        }, 
        {
            "source": "raw_text[:]", 
            "metadata": {
                "scrolled": true
            }, 
            "execution_count": 149, 
            "cell_type": "code", 
            "outputs": [
                {
                    "data": {
                        "text/plain": "\"Sing a song of sixpence, A pocket full of rye. Four and twenty blackbirds, Baked in a pie. When the pie was opened The birds began to sing; Wasn' t that a dainty dish, To set before the king. The king was in his counting house, Counting out his money; The queen was in the parlour, Eating bread and honey. The maid was in the garden, Hanging out the clothes, When down came a blackbird And pecked off her nose\""
                    }, 
                    "metadata": {}, 
                    "execution_count": 149, 
                    "output_type": "execute_result"
                }
            ]
        }, 
        {
            "metadata": {}, 
            "source": "### Tips\n- You may want to explore other methods for data cleaning, \n- such as normalizing the case to\nlowercase or removing punctuation in an effort \n- to reduce the final vocabulary size and develop a\nsmaller and leaner model.", 
            "cell_type": "markdown"
        }, 
        {
            "metadata": {}, 
            "source": "## Create Sequences\n- Now that we have a long list of characters, \n- we can create our input-output sequences used to\ntrain the model. \n- Each input sequence will be 10 characters with one output character, \n- making\neach sequence 11 characters long", 
            "cell_type": "markdown"
        }, 
        {
            "source": "# organize into sequences of characters\nchars = sorted(list(set(raw_text)))\nmapping = dict((c, i) for i, c in enumerate(chars))\nlength = 10\n", 
            "metadata": {}, 
            "execution_count": 150, 
            "cell_type": "code", 
            "outputs": []
        }, 
        {
            "source": "sequences = list()\nfor i in range(length, len(raw_text)):\n    # select sequence of tokens\n    seq = raw_text[i-length:i+1]\n    # store\n    sequences.append(seq)\nprint('Total Sequences: %d' % len(sequences))\n", 
            "metadata": {}, 
            "execution_count": 151, 
            "cell_type": "code", 
            "outputs": [
                {
                    "name": "stdout", 
                    "output_type": "stream", 
                    "text": "Total Sequences: 399\n"
                }
            ]
        }, 
        {
            "metadata": {}, 
            "source": "#### We can create the sequences by enumerating the characters in the text, starting at the 11th character at index 10.", 
            "cell_type": "markdown"
        }, 
        {
            "source": "sequences[:]", 
            "metadata": {
                "scrolled": true
            }, 
            "execution_count": 152, 
            "cell_type": "code", 
            "outputs": [
                {
                    "data": {
                        "text/plain": "['Sing a song',\n 'ing a song ',\n 'ng a song o',\n 'g a song of',\n ' a song of ',\n 'a song of s',\n ' song of si',\n 'song of six',\n 'ong of sixp',\n 'ng of sixpe',\n 'g of sixpen',\n ' of sixpenc',\n 'of sixpence',\n 'f sixpence,',\n ' sixpence, ',\n 'sixpence, A',\n 'ixpence, A ',\n 'xpence, A p',\n 'pence, A po',\n 'ence, A poc',\n 'nce, A pock',\n 'ce, A pocke',\n 'e, A pocket',\n ', A pocket ',\n ' A pocket f',\n 'A pocket fu',\n ' pocket ful',\n 'pocket full',\n 'ocket full ',\n 'cket full o',\n 'ket full of',\n 'et full of ',\n 't full of r',\n ' full of ry',\n 'full of rye',\n 'ull of rye.',\n 'll of rye. ',\n 'l of rye. F',\n ' of rye. Fo',\n 'of rye. Fou',\n 'f rye. Four',\n ' rye. Four ',\n 'rye. Four a',\n 'ye. Four an',\n 'e. Four and',\n '. Four and ',\n ' Four and t',\n 'Four and tw',\n 'our and twe',\n 'ur and twen',\n 'r and twent',\n ' and twenty',\n 'and twenty ',\n 'nd twenty b',\n 'd twenty bl',\n ' twenty bla',\n 'twenty blac',\n 'wenty black',\n 'enty blackb',\n 'nty blackbi',\n 'ty blackbir',\n 'y blackbird',\n ' blackbirds',\n 'blackbirds,',\n 'lackbirds, ',\n 'ackbirds, B',\n 'ckbirds, Ba',\n 'kbirds, Bak',\n 'birds, Bake',\n 'irds, Baked',\n 'rds, Baked ',\n 'ds, Baked i',\n 's, Baked in',\n ', Baked in ',\n ' Baked in a',\n 'Baked in a ',\n 'aked in a p',\n 'ked in a pi',\n 'ed in a pie',\n 'd in a pie.',\n ' in a pie. ',\n 'in a pie. W',\n 'n a pie. Wh',\n ' a pie. Whe',\n 'a pie. When',\n ' pie. When ',\n 'pie. When t',\n 'ie. When th',\n 'e. When the',\n '. When the ',\n ' When the p',\n 'When the pi',\n 'hen the pie',\n 'en the pie ',\n 'n the pie w',\n ' the pie wa',\n 'the pie was',\n 'he pie was ',\n 'e pie was o',\n ' pie was op',\n 'pie was ope',\n 'ie was open',\n 'e was opene',\n ' was opened',\n 'was opened ',\n 'as opened T',\n 's opened Th',\n ' opened The',\n 'opened The ',\n 'pened The b',\n 'ened The bi',\n 'ned The bir',\n 'ed The bird',\n 'd The birds',\n ' The birds ',\n 'The birds b',\n 'he birds be',\n 'e birds beg',\n ' birds bega',\n 'birds began',\n 'irds began ',\n 'rds began t',\n 'ds began to',\n 's began to ',\n ' began to s',\n 'began to si',\n 'egan to sin',\n 'gan to sing',\n 'an to sing;',\n 'n to sing; ',\n ' to sing; W',\n 'to sing; Wa',\n 'o sing; Was',\n ' sing; Wasn',\n \"sing; Wasn'\",\n \"ing; Wasn' \",\n \"ng; Wasn' t\",\n \"g; Wasn' t \",\n \"; Wasn' t t\",\n \" Wasn' t th\",\n \"Wasn' t tha\",\n \"asn' t that\",\n \"sn' t that \",\n \"n' t that a\",\n \"' t that a \",\n ' t that a d',\n 't that a da',\n ' that a dai',\n 'that a dain',\n 'hat a daint',\n 'at a dainty',\n 't a dainty ',\n ' a dainty d',\n 'a dainty di',\n ' dainty dis',\n 'dainty dish',\n 'ainty dish,',\n 'inty dish, ',\n 'nty dish, T',\n 'ty dish, To',\n 'y dish, To ',\n ' dish, To s',\n 'dish, To se',\n 'ish, To set',\n 'sh, To set ',\n 'h, To set b',\n ', To set be',\n ' To set bef',\n 'To set befo',\n 'o set befor',\n ' set before',\n 'set before ',\n 'et before t',\n 't before th',\n ' before the',\n 'before the ',\n 'efore the k',\n 'fore the ki',\n 'ore the kin',\n 're the king',\n 'e the king.',\n ' the king. ',\n 'the king. T',\n 'he king. Th',\n 'e king. The',\n ' king. The ',\n 'king. The k',\n 'ing. The ki',\n 'ng. The kin',\n 'g. The king',\n '. The king ',\n ' The king w',\n 'The king wa',\n 'he king was',\n 'e king was ',\n ' king was i',\n 'king was in',\n 'ing was in ',\n 'ng was in h',\n 'g was in hi',\n ' was in his',\n 'was in his ',\n 'as in his c',\n 's in his co',\n ' in his cou',\n 'in his coun',\n 'n his count',\n ' his counti',\n 'his countin',\n 'is counting',\n 's counting ',\n ' counting h',\n 'counting ho',\n 'ounting hou',\n 'unting hous',\n 'nting house',\n 'ting house,',\n 'ing house, ',\n 'ng house, C',\n 'g house, Co',\n ' house, Cou',\n 'house, Coun',\n 'ouse, Count',\n 'use, Counti',\n 'se, Countin',\n 'e, Counting',\n ', Counting ',\n ' Counting o',\n 'Counting ou',\n 'ounting out',\n 'unting out ',\n 'nting out h',\n 'ting out hi',\n 'ing out his',\n 'ng out his ',\n 'g out his m',\n ' out his mo',\n 'out his mon',\n 'ut his mone',\n 't his money',\n ' his money;',\n 'his money; ',\n 'is money; T',\n 's money; Th',\n ' money; The',\n 'money; The ',\n 'oney; The q',\n 'ney; The qu',\n 'ey; The que',\n 'y; The quee',\n '; The queen',\n ' The queen ',\n 'The queen w',\n 'he queen wa',\n 'e queen was',\n ' queen was ',\n 'queen was i',\n 'ueen was in',\n 'een was in ',\n 'en was in t',\n 'n was in th',\n ' was in the',\n 'was in the ',\n 'as in the p',\n 's in the pa',\n ' in the par',\n 'in the parl',\n 'n the parlo',\n ' the parlou',\n 'the parlour',\n 'he parlour,',\n 'e parlour, ',\n ' parlour, E',\n 'parlour, Ea',\n 'arlour, Eat',\n 'rlour, Eati',\n 'lour, Eatin',\n 'our, Eating',\n 'ur, Eating ',\n 'r, Eating b',\n ', Eating br',\n ' Eating bre',\n 'Eating brea',\n 'ating bread',\n 'ting bread ',\n 'ing bread a',\n 'ng bread an',\n 'g bread and',\n ' bread and ',\n 'bread and h',\n 'read and ho',\n 'ead and hon',\n 'ad and hone',\n 'd and honey',\n ' and honey.',\n 'and honey. ',\n 'nd honey. T',\n 'd honey. Th',\n ' honey. The',\n 'honey. The ',\n 'oney. The m',\n 'ney. The ma',\n 'ey. The mai',\n 'y. The maid',\n '. The maid ',\n ' The maid w',\n 'The maid wa',\n 'he maid was',\n 'e maid was ',\n ' maid was i',\n 'maid was in',\n 'aid was in ',\n 'id was in t',\n 'd was in th',\n ' was in the',\n 'was in the ',\n 'as in the g',\n 's in the ga',\n ' in the gar',\n 'in the gard',\n 'n the garde',\n ' the garden',\n 'the garden,',\n 'he garden, ',\n 'e garden, H',\n ' garden, Ha',\n 'garden, Han',\n 'arden, Hang',\n 'rden, Hangi',\n 'den, Hangin',\n 'en, Hanging',\n 'n, Hanging ',\n ', Hanging o',\n ' Hanging ou',\n 'Hanging out',\n 'anging out ',\n 'nging out t',\n 'ging out th',\n 'ing out the',\n 'ng out the ',\n 'g out the c',\n ' out the cl',\n 'out the clo',\n 'ut the clot',\n 't the cloth',\n ' the clothe',\n 'the clothes',\n 'he clothes,',\n 'e clothes, ',\n ' clothes, W',\n 'clothes, Wh',\n 'lothes, Whe',\n 'othes, When',\n 'thes, When ',\n 'hes, When d',\n 'es, When do',\n 's, When dow',\n ', When down',\n ' When down ',\n 'When down c',\n 'hen down ca',\n 'en down cam',\n 'n down came',\n ' down came ',\n 'down came a',\n 'own came a ',\n 'wn came a b',\n 'n came a bl',\n ' came a bla',\n 'came a blac',\n 'ame a black',\n 'me a blackb',\n 'e a blackbi',\n ' a blackbir',\n 'a blackbird',\n ' blackbird ',\n 'blackbird A',\n 'lackbird An',\n 'ackbird And',\n 'ckbird And ',\n 'kbird And p',\n 'bird And pe',\n 'ird And pec',\n 'rd And peck',\n 'd And pecke',\n ' And pecked',\n 'And pecked ',\n 'nd pecked o',\n 'd pecked of',\n ' pecked off',\n 'pecked off ',\n 'ecked off h',\n 'cked off he',\n 'ked off her',\n 'ed off her ',\n 'd off her n',\n ' off her no',\n 'off her nos',\n 'ff her nose']"
                    }, 
                    "metadata": {}, 
                    "execution_count": 152, 
                    "output_type": "execute_result"
                }
            ]
        }, 
        {
            "source": "# save tokens to file, one dialog per line\ndef save_doc(lines, filename):\n    data = '\\n'.join(lines)\n    file = open(filename, 'w')\n    file.write(data)\n    file.close()\n    \n# save sequences to file\nout_filename = 'char_sequences.txt'\nsave_doc(sequences, out_filename)", 
            "metadata": {}, 
            "execution_count": 153, 
            "cell_type": "code", 
            "outputs": []
        }, 
        {
            "metadata": {}, 
            "source": "## Train Language Model\n- Coming section is to develop a neural language model for the prepared sequence data. \n- The\nmodel will read encoded characters and predict the next character in the sequence.\n- A Long\nShort-Term Memory recurrent neural network hidden layer will be used \n- to learn the context\nfrom the input sequence in order to make the predictions.", 
            "cell_type": "markdown"
        }, 
        {
            "source": "# load doc into memory\ndef load_doc(filename):\n    # open the file as read only\n    file = open(filename, 'r')\n    # read all text\n    text = file.read()\n    # close the file\n    file.close()\n    return text\n\n# load\nin_filename = 'char_sequences.txt'\nraw_text = load_doc(in_filename)\nlines = raw_text.split('\\n')", 
            "metadata": {}, 
            "execution_count": 154, 
            "cell_type": "code", 
            "outputs": []
        }, 
        {
            "source": "from numpy import array\nfrom pickle import dump\nfrom keras.utils import to_categorical\nfrom keras.models import Sequential\nfrom keras.layers import Dense\nfrom keras.layers import LSTM\nfrom keras.utils.vis_utils import plot_model", 
            "metadata": {}, 
            "execution_count": 156, 
            "cell_type": "code", 
            "outputs": []
        }, 
        {
            "metadata": {}, 
            "source": "## Encode Sequences\n- The sequences of characters must be encoded as integers. \n- This means that each unique character\nwill be assigned a specific integer value and each sequence of characters will be encoded as a\nsequence of integers. \n- We can create the mapping given a sorted set of unique characters in the\nraw input data. \n- The mapping is a dictionary of character values to integer values.", 
            "cell_type": "markdown"
        }, 
        {
            "source": "# integer encode sequences of characters\nchars = sorted(list(set(raw_text)))\nmapping = dict((c, i) for i, c in enumerate(chars))", 
            "metadata": {}, 
            "execution_count": 157, 
            "cell_type": "code", 
            "outputs": []
        }, 
        {
            "metadata": {}, 
            "source": "## Character Mapping & Vocab Size\n- Next, we can process each sequence of characters one at a time \n- and use the dictionary mapping to look up the integer value for each character\n- The result is a list of integer lists. \n- We need to know the size of the vocabulary later.", 
            "cell_type": "markdown"
        }, 
        {
            "source": "sequences = list()\nfor line in lines:\n    # integer encode line\n    encoded_seq = [mapping[char] for char in line]\n    # store\n    sequences.append(encoded_seq)\n# vocabulary size\nvocab_size = len(mapping)\nprint('Vocabulary Size: %d' % vocab_size)", 
            "metadata": {}, 
            "execution_count": 158, 
            "cell_type": "code", 
            "outputs": [
                {
                    "name": "stdout", 
                    "output_type": "stream", 
                    "text": "Vocabulary Size: 38\n"
                }
            ]
        }, 
        {
            "metadata": {}, 
            "source": "## Define Input & output\n- Now that the sequences have been integer encoded, \n- we can separate the columns into input and\noutput sequences of characters. \n- We can do this using a simple array slice.", 
            "cell_type": "markdown"
        }, 
        {
            "source": "# separate into input and output\nsequences = array(sequences)\nX, y = sequences[:,:-1], sequences[:,-1]\nsequences = [to_categorical(x, num_classes=vocab_size) for x in X]\nX = array(sequences)\ny = to_categorical(y, num_classes=vocab_size)\n\n", 
            "metadata": {
                "scrolled": true
            }, 
            "execution_count": 159, 
            "cell_type": "code", 
            "outputs": []
        }, 
        {
            "metadata": {}, 
            "source": "## One Hot Encoded\n- Next, we need to one hot encode each character.\n- That is, each character becomes a vector as\nlong as the vocabulary (38 elements) \n- with a 1 marked for the speci\fc character. \n- This provides\na more precise input representation for the network.", 
            "cell_type": "markdown"
        }, 
        {
            "metadata": {}, 
            "source": "## LSTM Model Setting\n- The model is defined with an input layer that takes sequences that have 10 time steps and 38\nfeatures for the one hot encoded input sequences. \n- Rather than specify these numbers, we use\nthe second and third dimensions on the X input data. \n- This is so that if we change the length of\nthe sequences or size of the vocabulary, we do not need to change the model definition. \n- The\nmodel has a single LSTM hidden layer with 75 memory cells, chosen with a little trial and\nerror. \n- The model has a fully connected output layer that outputs one vector with a probability\ndistribution across all characters in the vocabulary. \n- A softmax activation function is used on\nthe output layer to ensure the output has the properties of a probability distribution.", 
            "cell_type": "markdown"
        }, 
        {
            "source": "# define the model\ndef define_model(X):\n    model = Sequential()\n    model.add(LSTM(75, input_shape=(X.shape[1], X.shape[2])))\n    model.add(Dense(vocab_size, activation='softmax'))\n    # compile model\n    model.compile(loss='categorical_crossentropy', optimizer='adam', metrics=['accuracy'])\n    # summarize defined model\n    model.summary()\n    plot_model(model, to_file='model.png', show_shapes=True)\n    return model", 
            "metadata": {}, 
            "execution_count": 160, 
            "cell_type": "code", 
            "outputs": []
        }, 
        {
            "metadata": {}, 
            "source": "## Evaluate the Model\n- The model is learning a multiclass classification problem, \n- therefore we use the categorical log\nloss intended for this type of problem. \n- The efficient Adam implementation of gradient descent\nis used to optimize the model and accuracy is reported at the end of each batch update.", 
            "cell_type": "markdown"
        }, 
        {
            "source": "# define model\nmodel = define_model(X)\n# fit model\nmodel.fit(X, y, epochs=100, verbose=2)", 
            "metadata": {
                "scrolled": true
            }, 
            "execution_count": 161, 
            "cell_type": "code", 
            "outputs": [
                {
                    "name": "stdout", 
                    "output_type": "stream", 
                    "text": "_________________________________________________________________\nLayer (type)                 Output Shape              Param #   \n=================================================================\nlstm_4 (LSTM)                (None, 75)                34200     \n_________________________________________________________________\ndense_4 (Dense)              (None, 38)                2888      \n=================================================================\nTotal params: 37,088\nTrainable params: 37,088\nNon-trainable params: 0\n_________________________________________________________________\nEpoch 1/100\n - 2s - loss: 3.6097 - acc: 0.1228\nEpoch 2/100\n - 0s - loss: 3.4844 - acc: 0.1930\nEpoch 3/100\n - 0s - loss: 3.1846 - acc: 0.1930\nEpoch 4/100\n - 0s - loss: 3.0560 - acc: 0.1930\nEpoch 5/100\n - 0s - loss: 3.0179 - acc: 0.1930\nEpoch 6/100\n - 0s - loss: 2.9946 - acc: 0.1930\nEpoch 7/100\n - 0s - loss: 2.9800 - acc: 0.1930\nEpoch 8/100\n - 0s - loss: 2.9648 - acc: 0.1930\nEpoch 9/100\n - 0s - loss: 2.9536 - acc: 0.1930\nEpoch 10/100\n - 0s - loss: 2.9390 - acc: 0.1930\nEpoch 11/100\n - 0s - loss: 2.9258 - acc: 0.1930\nEpoch 12/100\n - 0s - loss: 2.9066 - acc: 0.1930\nEpoch 13/100\n - 0s - loss: 2.8826 - acc: 0.2005\nEpoch 14/100\n - 0s - loss: 2.8692 - acc: 0.2080\nEpoch 15/100\n - 0s - loss: 2.8504 - acc: 0.2155\nEpoch 16/100\n - 0s - loss: 2.8046 - acc: 0.2030\nEpoch 17/100\n - 0s - loss: 2.7812 - acc: 0.2005\nEpoch 18/100\n - 0s - loss: 2.7545 - acc: 0.2506\nEpoch 19/100\n - 0s - loss: 2.7190 - acc: 0.2481\nEpoch 20/100\n - 0s - loss: 2.6705 - acc: 0.2481\nEpoch 21/100\n - 0s - loss: 2.6303 - acc: 0.2707\nEpoch 22/100\n - 0s - loss: 2.6048 - acc: 0.2581\nEpoch 23/100\n - 0s - loss: 2.5761 - acc: 0.2732\nEpoch 24/100\n - 0s - loss: 2.5108 - acc: 0.2832\nEpoch 25/100\n - 0s - loss: 2.4851 - acc: 0.3133\nEpoch 26/100\n - 0s - loss: 2.4403 - acc: 0.3083\nEpoch 27/100\n - 0s - loss: 2.3990 - acc: 0.3258\nEpoch 28/100\n - 0s - loss: 2.3508 - acc: 0.3383\nEpoch 29/100\n - 0s - loss: 2.3067 - acc: 0.3233\nEpoch 30/100\n - 0s - loss: 2.2590 - acc: 0.3559\nEpoch 31/100\n - 0s - loss: 2.2232 - acc: 0.3709\nEpoch 32/100\n - 0s - loss: 2.1839 - acc: 0.3659\nEpoch 33/100\n - 0s - loss: 2.1246 - acc: 0.4110\nEpoch 34/100\n - 0s - loss: 2.0946 - acc: 0.3960\nEpoch 35/100\n - 0s - loss: 2.0338 - acc: 0.4436\nEpoch 36/100\n - 0s - loss: 1.9940 - acc: 0.4185\nEpoch 37/100\n - 0s - loss: 1.9644 - acc: 0.4511\nEpoch 38/100\n - 0s - loss: 1.9156 - acc: 0.4461\nEpoch 39/100\n - 0s - loss: 1.8862 - acc: 0.4286\nEpoch 40/100\n - 0s - loss: 1.8432 - acc: 0.4912\nEpoch 41/100\n - 0s - loss: 1.8059 - acc: 0.4887\nEpoch 42/100\n - 0s - loss: 1.7674 - acc: 0.5188\nEpoch 43/100\n - 0s - loss: 1.7251 - acc: 0.5138\nEpoch 44/100\n - 0s - loss: 1.6662 - acc: 0.5414\nEpoch 45/100\n - 0s - loss: 1.6475 - acc: 0.5714\nEpoch 46/100\n - 0s - loss: 1.6002 - acc: 0.5664\nEpoch 47/100\n - 0s - loss: 1.5578 - acc: 0.5840\nEpoch 48/100\n - 0s - loss: 1.5186 - acc: 0.6065\nEpoch 49/100\n - 0s - loss: 1.4939 - acc: 0.5890\nEpoch 50/100\n - 0s - loss: 1.4472 - acc: 0.6190\nEpoch 51/100\n - 0s - loss: 1.4069 - acc: 0.6366\nEpoch 52/100\n - 0s - loss: 1.3864 - acc: 0.6190\nEpoch 53/100\n - 0s - loss: 1.3406 - acc: 0.6541\nEpoch 54/100\n - 0s - loss: 1.2960 - acc: 0.6667\nEpoch 55/100\n - 0s - loss: 1.2489 - acc: 0.7018\nEpoch 56/100\n - 0s - loss: 1.2265 - acc: 0.7168\nEpoch 57/100\n - 0s - loss: 1.1803 - acc: 0.7143\nEpoch 58/100\n - 0s - loss: 1.1733 - acc: 0.7118\nEpoch 59/100\n - 0s - loss: 1.1016 - acc: 0.7494\nEpoch 60/100\n - 0s - loss: 1.0805 - acc: 0.7669\nEpoch 61/100\n - 0s - loss: 1.0328 - acc: 0.7870\nEpoch 62/100\n - 0s - loss: 1.0061 - acc: 0.7870\nEpoch 63/100\n - 0s - loss: 0.9629 - acc: 0.7794\nEpoch 64/100\n - 0s - loss: 0.9366 - acc: 0.8170\nEpoch 65/100\n - 0s - loss: 0.9106 - acc: 0.8145\nEpoch 66/100\n - 0s - loss: 0.8635 - acc: 0.8346\nEpoch 67/100\n - 0s - loss: 0.8501 - acc: 0.8271\nEpoch 68/100\n - 0s - loss: 0.8074 - acc: 0.8622\nEpoch 69/100\n - 0s - loss: 0.7827 - acc: 0.8747\nEpoch 70/100\n - 0s - loss: 0.7518 - acc: 0.8697\nEpoch 71/100\n - 0s - loss: 0.7355 - acc: 0.8697\nEpoch 72/100\n - 0s - loss: 0.7332 - acc: 0.8697\nEpoch 73/100\n - 0s - loss: 0.7107 - acc: 0.8772\nEpoch 74/100\n - 0s - loss: 0.6482 - acc: 0.9123\nEpoch 75/100\n - 0s - loss: 0.6112 - acc: 0.9398\nEpoch 76/100\n - 0s - loss: 0.5860 - acc: 0.9273\nEpoch 77/100\n - 0s - loss: 0.5563 - acc: 0.9398\nEpoch 78/100\n - 0s - loss: 0.5422 - acc: 0.9373\nEpoch 79/100\n - 0s - loss: 0.5221 - acc: 0.9549\nEpoch 80/100\n - 0s - loss: 0.5092 - acc: 0.9499\nEpoch 81/100\n - 0s - loss: 0.4984 - acc: 0.9549\nEpoch 82/100\n - 0s - loss: 0.4728 - acc: 0.9574\nEpoch 83/100\n - 0s - loss: 0.4436 - acc: 0.9749\nEpoch 84/100\n - 0s - loss: 0.4285 - acc: 0.9674\nEpoch 85/100\n - 0s - loss: 0.4130 - acc: 0.9699\nEpoch 86/100\n - 0s - loss: 0.3961 - acc: 0.9799\nEpoch 87/100\n - 0s - loss: 0.3736 - acc: 0.9774\nEpoch 88/100\n - 0s - loss: 0.3561 - acc: 0.9825\nEpoch 89/100\n - 0s - loss: 0.3432 - acc: 0.9799\nEpoch 90/100\n - 0s - loss: 0.3376 - acc: 0.9749\nEpoch 91/100\n - 0s - loss: 0.3308 - acc: 0.9875\nEpoch 92/100\n - 0s - loss: 0.3161 - acc: 0.9900\nEpoch 93/100\n - 0s - loss: 0.3022 - acc: 0.9799\nEpoch 94/100\n - 0s - loss: 0.2845 - acc: 0.9875\nEpoch 95/100\n - 0s - loss: 0.2696 - acc: 0.9850\nEpoch 96/100\n - 0s - loss: 0.2591 - acc: 0.9925\nEpoch 97/100\n - 0s - loss: 0.2505 - acc: 0.9925\nEpoch 98/100\n - 0s - loss: 0.2433 - acc: 0.9900\nEpoch 99/100\n - 0s - loss: 0.2356 - acc: 0.9850\nEpoch 100/100\n - 0s - loss: 0.2306 - acc: 0.9900\n"
                }, 
                {
                    "data": {
                        "text/plain": "<keras.callbacks.History at 0x7ff966fc6810>"
                    }, 
                    "metadata": {}, 
                    "execution_count": 161, 
                    "output_type": "execute_result"
                }
            ]
        }, 
        {
            "metadata": {}, 
            "source": "## Save Model\n- After the model is fit, we save it to file for later use. \n- The Keras model API provides the save()\nfunction that we can use to save the model to a single file, \n- including weights and topology\ninformation.", 
            "cell_type": "markdown"
        }, 
        {
            "source": "!pip install h5py", 
            "metadata": {}, 
            "execution_count": 20, 
            "cell_type": "code", 
            "outputs": [
                {
                    "name": "stdout", 
                    "output_type": "stream", 
                    "text": "Requirement already satisfied: h5py in /gpfs/global_fs01/sym_shared/YPProdSpark/user/sbb6-28ae32a56257b0-666d72869b6d/.local/lib/python2.7/site-packages\r\nRequirement already satisfied: numpy>=1.7 in /gpfs/global_fs01/sym_shared/YPProdSpark/user/sbb6-28ae32a56257b0-666d72869b6d/.local/lib/python2.7/site-packages (from h5py)\r\nRequirement already satisfied: six in /gpfs/global_fs01/sym_shared/YPProdSpark/user/sbb6-28ae32a56257b0-666d72869b6d/.local/lib/python2.7/site-packages (from h5py)\r\n"
                }
            ]
        }, 
        {
            "source": "import h5py", 
            "metadata": {}, 
            "execution_count": 21, 
            "cell_type": "code", 
            "outputs": []
        }, 
        {
            "source": "# save the model to file\nmodel.save('model.h5py')", 
            "metadata": {}, 
            "execution_count": 162, 
            "cell_type": "code", 
            "outputs": []
        }, 
        {
            "metadata": {}, 
            "source": "## Save Mapping\n- We also save the mapping from characters to integers that \n- we will need to encode any input\nwhen using the model and decode any output from the model", 
            "cell_type": "markdown"
        }, 
        {
            "source": "# save the mapping\ndump(mapping, open('mapping.pkl', 'wb'))", 
            "metadata": {}, 
            "execution_count": 163, 
            "cell_type": "code", 
            "outputs": []
        }, 
        {
            "metadata": {}, 
            "source": "# Generate Text\n- We will use the learned language model to generate new sequences of text that have the same statistical properties.\n\n## Load Model & Mapping\n- The first step is to load the model saved to the \fle model.h5. We can use the load model() function from the Keras API.\n- We also need to load the pickled dictionary for mapping characters to integers from the \fle\n- mapping.pkl. We will use the Pickle API to load the object.", 
            "cell_type": "markdown"
        }, 
        {
            "source": "from pickle import load\nfrom keras.models import load_model\nfrom keras.utils import to_categorical\nfrom keras.preprocessing.sequence import pad_sequences", 
            "metadata": {}, 
            "execution_count": 164, 
            "cell_type": "code", 
            "outputs": []
        }, 
        {
            "source": "# load the model\nmodel = load_model('model.h5')\n\n# load the mapping\nmapping = load(open('mapping.pkl', 'rb'))", 
            "metadata": {}, 
            "execution_count": 170, 
            "cell_type": "code", 
            "outputs": []
        }, 
        {
            "metadata": {}, 
            "source": "## Generate Characters\n- We must provide sequences of 10 characters as input to the model in order to start the generation process. We will pick these manually\n- First, the sequence of characters must\nbe integer encoded using the loaded mapping.", 
            "cell_type": "markdown"
        }, 
        {
            "source": "# encode the characters as integers\n# encoded = [mapping[char] for char in in_text]", 
            "metadata": {
                "scrolled": true
            }, 
            "execution_count": 39, 
            "cell_type": "code", 
            "outputs": []
        }, 
        {
            "metadata": {}, 
            "source": "## ENcode & 3 Dimension\n- Next, the integers need to be one hot encoded using the to categorical() Keras function.\n- We also need to reshape the sequence to be 3-dimensional, as we only have one sequence and\n- LSTMs require all input to be three dimensional (samples, time steps, features).", 
            "cell_type": "markdown"
        }, 
        {
            "source": "# one hot encode\n# encoded = to_categorical(encoded, num_classes=len(mapping))\n# encoded = encoded.reshape(1, encoded.shape[0], encoded.shape[1])", 
            "metadata": {}, 
            "execution_count": 40, 
            "cell_type": "code", 
            "outputs": []
        }, 
        {
            "metadata": {}, 
            "source": "## Predict\n- We can then use the model to predict the next character in the sequence. \n- We use\npredict classes() instead of predict() to directly select the integer for the character with\nthe highest probability\n- instead of getting the full probability distribution across the entire set of\ncharacters.", 
            "cell_type": "markdown"
        }, 
        {
            "source": "# predict character\n# yhat = model.predict_classes(encoded, verbose=0)", 
            "metadata": {}, 
            "execution_count": 41, 
            "cell_type": "code", 
            "outputs": []
        }, 
        {
            "metadata": {}, 
            "source": "## Decode & Pad\n- We can then decode this integer by looking up the mapping to see the character to which it maps.\n- This character can then be added to the input sequence. We then need to make sure that the\ninput sequence is 10 characters by truncating the \frst character from the input sequence text.\n- We can use the pad sequences() function from the Keras API that can perform this truncation\noperation. \n- Putting all of this together, we can de\fne a new function named generate seq()\nfor using the loaded model to generate new sequences of text", 
            "cell_type": "markdown"
        }, 
        {
            "source": "# generate a sequence of characters with a language model\ndef generate_seq(model, mapping, seq_length, seed_text, n_chars):\n    in_text = seed_text\n    # generate a fixed number of characters\n    for _ in range(n_chars):\n        # encode the characters as integers\n        encoded = [mapping[char] for char in in_text]\n        # truncate sequences to a fixed length\n        encoded = pad_sequences([encoded], maxlen=seq_length, truncating='pre')\n        # one hot encode\n        encoded = to_categorical(encoded, num_classes=len(mapping))\n        encoded = encoded.reshape(1, encoded.shape[0], encoded.shape[1])\n        # predict character\n        yhat = model.predict_classes(encoded, verbose=0)\n        # reverse map integer to character\n        out_char = ''\n        for char, index in mapping.items():\n            if index == yhat:\n                out_char = char\n                break\n    # append to input\n    in_text += char\n    return in_text", 
            "metadata": {}, 
            "execution_count": 166, 
            "cell_type": "code", 
            "outputs": []
        }, 
        {
            "source": "# load the model\nmodel = load_model('model.h5')\n# load the mapping\nmapping = load(open('mapping.pkl', 'rb'))\n", 
            "metadata": {}, 
            "execution_count": 171, 
            "cell_type": "code", 
            "outputs": []
        }, 
        {
            "source": "# test start of rhyme\nprint(generate_seq(model, mapping, 10, 'Sing a son', 20))\n# test mid-line\nprint(generate_seq(model, mapping, 10, 'king was i', 20))\n# test not in original\nprint(generate_seq(model, mapping, 10, 'hello worl', 20))", 
            "metadata": {}, 
            "execution_count": 174, 
            "cell_type": "code", 
            "outputs": [
                {
                    "ename": "ValueError", 
                    "output_type": "error", 
                    "evalue": "cannot reshape array of size 380 into shape (1,1,10)", 
                    "traceback": [
                        "\u001b[0;31m\u001b[0m", 
                        "\u001b[0;31mValueError\u001b[0mTraceback (most recent call last)", 
                        "\u001b[0;32m<ipython-input-174-218760d81332>\u001b[0m in \u001b[0;36m<module>\u001b[0;34m()\u001b[0m\n\u001b[1;32m      1\u001b[0m \u001b[0;31m# test start of rhyme\u001b[0m\u001b[0;34m\u001b[0m\u001b[0;34m\u001b[0m\u001b[0m\n\u001b[0;32m----> 2\u001b[0;31m \u001b[0;32mprint\u001b[0m\u001b[0;34m(\u001b[0m\u001b[0mgenerate_seq\u001b[0m\u001b[0;34m(\u001b[0m\u001b[0mmodel\u001b[0m\u001b[0;34m,\u001b[0m \u001b[0mmapping\u001b[0m\u001b[0;34m,\u001b[0m \u001b[0;36m10\u001b[0m\u001b[0;34m,\u001b[0m \u001b[0;34m'Sing a so'\u001b[0m\u001b[0;34m,\u001b[0m \u001b[0;36m20\u001b[0m\u001b[0;34m)\u001b[0m\u001b[0;34m)\u001b[0m\u001b[0;34m\u001b[0m\u001b[0m\n\u001b[0m\u001b[1;32m      3\u001b[0m \u001b[0;31m# test mid-line\u001b[0m\u001b[0;34m\u001b[0m\u001b[0;34m\u001b[0m\u001b[0m\n\u001b[1;32m      4\u001b[0m \u001b[0;32mprint\u001b[0m\u001b[0;34m(\u001b[0m\u001b[0mgenerate_seq\u001b[0m\u001b[0;34m(\u001b[0m\u001b[0mmodel\u001b[0m\u001b[0;34m,\u001b[0m \u001b[0mmapping\u001b[0m\u001b[0;34m,\u001b[0m \u001b[0;36m10\u001b[0m\u001b[0;34m,\u001b[0m \u001b[0;34m'king was i'\u001b[0m\u001b[0;34m,\u001b[0m \u001b[0;36m20\u001b[0m\u001b[0;34m)\u001b[0m\u001b[0;34m)\u001b[0m\u001b[0;34m\u001b[0m\u001b[0m\n\u001b[1;32m      5\u001b[0m \u001b[0;31m# test not in original\u001b[0m\u001b[0;34m\u001b[0m\u001b[0;34m\u001b[0m\u001b[0m\n", 
                        "\u001b[0;32m<ipython-input-166-fe4e1061be41>\u001b[0m in \u001b[0;36mgenerate_seq\u001b[0;34m(model, mapping, seq_length, seed_text, n_chars)\u001b[0m\n\u001b[1;32m     10\u001b[0m         \u001b[0;31m# one hot encode\u001b[0m\u001b[0;34m\u001b[0m\u001b[0;34m\u001b[0m\u001b[0m\n\u001b[1;32m     11\u001b[0m         \u001b[0mencoded\u001b[0m \u001b[0;34m=\u001b[0m \u001b[0mto_categorical\u001b[0m\u001b[0;34m(\u001b[0m\u001b[0mencoded\u001b[0m\u001b[0;34m,\u001b[0m \u001b[0mnum_classes\u001b[0m\u001b[0;34m=\u001b[0m\u001b[0mlen\u001b[0m\u001b[0;34m(\u001b[0m\u001b[0mmapping\u001b[0m\u001b[0;34m)\u001b[0m\u001b[0;34m)\u001b[0m\u001b[0;34m\u001b[0m\u001b[0m\n\u001b[0;32m---> 12\u001b[0;31m         \u001b[0mencoded\u001b[0m \u001b[0;34m=\u001b[0m \u001b[0mencoded\u001b[0m\u001b[0;34m.\u001b[0m\u001b[0mreshape\u001b[0m\u001b[0;34m(\u001b[0m\u001b[0;36m1\u001b[0m\u001b[0;34m,\u001b[0m \u001b[0mencoded\u001b[0m\u001b[0;34m.\u001b[0m\u001b[0mshape\u001b[0m\u001b[0;34m[\u001b[0m\u001b[0;36m0\u001b[0m\u001b[0;34m]\u001b[0m\u001b[0;34m,\u001b[0m \u001b[0mencoded\u001b[0m\u001b[0;34m.\u001b[0m\u001b[0mshape\u001b[0m\u001b[0;34m[\u001b[0m\u001b[0;36m1\u001b[0m\u001b[0;34m]\u001b[0m\u001b[0;34m)\u001b[0m\u001b[0;34m\u001b[0m\u001b[0m\n\u001b[0m\u001b[1;32m     13\u001b[0m         \u001b[0;31m# predict character\u001b[0m\u001b[0;34m\u001b[0m\u001b[0;34m\u001b[0m\u001b[0m\n\u001b[1;32m     14\u001b[0m         \u001b[0myhat\u001b[0m \u001b[0;34m=\u001b[0m \u001b[0mmodel\u001b[0m\u001b[0;34m.\u001b[0m\u001b[0mpredict_classes\u001b[0m\u001b[0;34m(\u001b[0m\u001b[0mencoded\u001b[0m\u001b[0;34m,\u001b[0m \u001b[0mverbose\u001b[0m\u001b[0;34m=\u001b[0m\u001b[0;36m0\u001b[0m\u001b[0;34m)\u001b[0m\u001b[0;34m\u001b[0m\u001b[0m\n", 
                        "\u001b[0;31mValueError\u001b[0m: cannot reshape array of size 380 into shape (1,1,10)"
                    ]
                }
            ]
        }, 
        {
            "metadata": {
                "collapsed": true
            }, 
            "source": "# Word-Based Neural Language Model\n## Framing Language Modeling\n\n_* A statistical language model is learned from raw text and predicts the probability of the next word in the sequence given the words already present in the sequence. *_\n\nLanguage models are a key component in larger models for challenging natural language processing problems, like machine translation and speech recognition. They can also be developed as standalone models and used for generating new sequences that have the same statistical properties as the source text.\n\nLanguage models both learn and predict one word at a time. The training of the network involves providing sequences of words as input that are processed one at a time where a prediction can be made and learned for each input sequence.\n\nSimilarly, when making predictions, the process can be seeded with one or a few words, then predicted words can be gathered and presented as input on subsequent predictions in order to build up a generated output sequence\n\nTherefore, each model will involve splitting the source text into input and output sequences, such that the model can learn to predict words.\n\n", 
            "cell_type": "markdown"
        }, 
        {
            "source": "# Sample Text being anlayzed:\n\n\n# source text\ndata = \"\"\" Jack and Jill went up the hill\\n\n\t\tTo fetch a pail of water\\n\n\t\tJack fell down and broke his crown\\n\n\t\tAnd Jill came tumbling after\\n \"\"\"", 
            "metadata": {}, 
            "execution_count": 1, 
            "cell_type": "code", 
            "outputs": []
        }, 
        {
            "metadata": {}, 
            "source": "## Model 1: One-Word-In, One-Word-Out Sequences \nWe can start with a very simple model.\n\nGiven one word as input, the model will learn to predict the next word in the sequence.\n\nKeras provides the Tokenizer class that can be used to perform this encoding. First, the Tokenizer is fit on the source text to develop the mapping from words to unique integers. Then sequences of text can be converted to sequences of integers by calling the texts_to_sequences() function.", 
            "cell_type": "markdown"
        }, 
        {
            "source": "from keras.preprocessing.text import Tokenizer\n\n\n# integer encode text\ntokenizer = Tokenizer()\ntokenizer.fit_on_texts([data])\nencoded = tokenizer.texts_to_sequences([data])[0]\n\n# determine the vocabulary size\nvocab_size = len(tokenizer.word_index) + 1\nprint('Vocabulary Size: %d' % vocab_size)", 
            "metadata": {}, 
            "execution_count": 2, 
            "cell_type": "code", 
            "outputs": [
                {
                    "name": "stderr", 
                    "output_type": "stream", 
                    "text": "/gpfs/fs01/user/sbb6-28ae32a56257b0-666d72869b6d/.local/lib/python2.7/site-packages/h5py/__init__.py:36: FutureWarning: Conversion of the second argument of issubdtype from `float` to `np.floating` is deprecated. In future, it will be treated as `np.float64 == np.dtype(float).type`.\n  from ._conv import register_converters as _register_converters\nUsing TensorFlow backend.\n"
                }, 
                {
                    "name": "stdout", 
                    "output_type": "stream", 
                    "text": "Vocabulary Size: 22\n"
                }
            ]
        }, 
        {
            "source": "encoded[:]", 
            "metadata": {}, 
            "execution_count": 25, 
            "cell_type": "code", 
            "outputs": [
                {
                    "data": {
                        "text/plain": "[2,\n 1,\n 3,\n 4,\n 5,\n 6,\n 7,\n 8,\n 9,\n 10,\n 11,\n 12,\n 13,\n 2,\n 14,\n 15,\n 1,\n 16,\n 17,\n 18,\n 1,\n 3,\n 19,\n 20,\n 21]"
                    }, 
                    "metadata": {}, 
                    "execution_count": 25, 
                    "output_type": "execute_result"
                }
            ]
        }, 
        {
            "metadata": {}, 
            "source": "We add one, because we will need to specify the integer for the largest encoded word as an array index, e.g. words encoded 1 to 21 with array indicies 0 to 21 or 22 positions.\n\nNext, we need to create sequences of words to fit the model with one word as input and one word as output.\n\nRunning this piece shows that we have a total of 24 input-output pairs to train the network.", 
            "cell_type": "markdown"
        }, 
        {
            "source": "import array", 
            "metadata": {}, 
            "execution_count": 26, 
            "cell_type": "code", 
            "outputs": []
        }, 
        {
            "source": "# create word -> word sequences\nsequences = list()\nfor i in range(1, len(encoded)):\n\tsequence = encoded[i-1:i+1]\n\tsequences.append(sequence)\nprint('Total Sequences: %d' % len(sequences))\n\n#We can then split the sequences into input (X) and output elements (y). This is straightforward as we only have two columns in the data.\n\n\n\n", 
            "metadata": {}, 
            "execution_count": 27, 
            "cell_type": "code", 
            "outputs": [
                {
                    "name": "stdout", 
                    "output_type": "stream", 
                    "text": "Total Sequences: 24\n"
                }
            ]
        }, 
        {
            "source": "sequences[:]", 
            "metadata": {}, 
            "execution_count": 28, 
            "cell_type": "code", 
            "outputs": [
                {
                    "data": {
                        "text/plain": "[[2, 1],\n [1, 3],\n [3, 4],\n [4, 5],\n [5, 6],\n [6, 7],\n [7, 8],\n [8, 9],\n [9, 10],\n [10, 11],\n [11, 12],\n [12, 13],\n [13, 2],\n [2, 14],\n [14, 15],\n [15, 1],\n [1, 16],\n [16, 17],\n [17, 18],\n [18, 1],\n [1, 3],\n [3, 19],\n [19, 20],\n [20, 21]]"
                    }, 
                    "metadata": {}, 
                    "execution_count": 28, 
                    "output_type": "execute_result"
                }
            ]
        }, 
        {
            "source": "# split into X and y elements\nsequences = np.array(sequences)\nX, y = sequences[:,0],sequences[:,1]\n", 
            "metadata": {}, 
            "execution_count": 29, 
            "cell_type": "code", 
            "outputs": [
                {
                    "ename": "NameError", 
                    "output_type": "error", 
                    "evalue": "name 'np' is not defined", 
                    "traceback": [
                        "\u001b[0;31m\u001b[0m", 
                        "\u001b[0;31mNameError\u001b[0mTraceback (most recent call last)", 
                        "\u001b[0;32m<ipython-input-29-e926a2400195>\u001b[0m in \u001b[0;36m<module>\u001b[0;34m()\u001b[0m\n\u001b[1;32m      1\u001b[0m \u001b[0;31m# split into X and y elements\u001b[0m\u001b[0;34m\u001b[0m\u001b[0;34m\u001b[0m\u001b[0m\n\u001b[0;32m----> 2\u001b[0;31m \u001b[0msequences\u001b[0m \u001b[0;34m=\u001b[0m \u001b[0mnp\u001b[0m\u001b[0;34m.\u001b[0m\u001b[0marray\u001b[0m\u001b[0;34m(\u001b[0m\u001b[0msequences\u001b[0m\u001b[0;34m)\u001b[0m\u001b[0;34m\u001b[0m\u001b[0m\n\u001b[0m\u001b[1;32m      3\u001b[0m \u001b[0mX\u001b[0m\u001b[0;34m,\u001b[0m \u001b[0my\u001b[0m \u001b[0;34m=\u001b[0m \u001b[0msequences\u001b[0m\u001b[0;34m[\u001b[0m\u001b[0;34m:\u001b[0m\u001b[0;34m,\u001b[0m\u001b[0;36m0\u001b[0m\u001b[0;34m]\u001b[0m\u001b[0;34m,\u001b[0m\u001b[0msequences\u001b[0m\u001b[0;34m[\u001b[0m\u001b[0;34m:\u001b[0m\u001b[0;34m,\u001b[0m\u001b[0;36m1\u001b[0m\u001b[0;34m]\u001b[0m\u001b[0;34m\u001b[0m\u001b[0m\n", 
                        "\u001b[0;31mNameError\u001b[0m: name 'np' is not defined"
                    ]
                }
            ]
        }, 
        {
            "metadata": {}, 
            "source": "We will fit our model to predict a probability distribution across all words in the vocabulary. That means that we need to turn the output element from a single integer into a one hot encoding with a 0 for every word in the vocabulary and a 1 for the actual word that the value. This gives the network a ground truth to aim for from which we can calculate error and update the model.\n\nKeras provides the to_categorical() function that we can use to convert the integer to a one hot encoding while specifying the number of classes as the vocabulary size.", 
            "cell_type": "markdown"
        }, 
        {
            "source": "from keras.utils import to_categorical", 
            "metadata": {}, 
            "execution_count": null, 
            "cell_type": "code", 
            "outputs": []
        }, 
        {
            "source": "# one hot encode outputs\ny = to_categorical(y, num_classes=vocab_size)", 
            "metadata": {
                "scrolled": true
            }, 
            "execution_count": null, 
            "cell_type": "code", 
            "outputs": []
        }, 
        {
            "metadata": {}, 
            "source": "We are now ready to define the neural network model.\n\nThe model uses a learned word embedding in the input layer. This has one real-valued vector for each word in the vocabulary, where each word vector has a specified length. In this case we will use a 10-dimensional projection. The input sequence contains a single word, therefore the input_length=1.\n\nThe model has a single hidden LSTM layer with 50 units. This is far more than is needed. The output layer is comprised of one neuron for each word in the vocabulary and uses a softmax activation function to ensure the output is normalized to look like a probability.", 
            "cell_type": "markdown"
        }, 
        {
            "source": "from keras.models import Sequential\nfrom keras.layers import Dense, Activation, Embedding, LSTM", 
            "metadata": {}, 
            "execution_count": null, 
            "cell_type": "code", 
            "outputs": []
        }, 
        {
            "source": "# define model\nmodel = Sequential()\nmodel.add(Embedding(vocab_size, 10, input_length=1))\nmodel.add(LSTM(50))\nmodel.add(Dense(vocab_size, activation='softmax'))\nprint(model.summary())", 
            "metadata": {
                "scrolled": true
            }, 
            "execution_count": null, 
            "cell_type": "code", 
            "outputs": []
        }, 
        {
            "metadata": {}, 
            "source": "We will use this same general network structure for each example in this tutorial, with minor changes to the learned embedding layer.\n\nNext, we can compile and fit the network on the encoded text data. Technically, we are modeling a multi-class classification problem (predict the word in the vocabulary), therefore using the categorical cross entropy loss function. We use the efficient Adam implementation of gradient descent and track accuracy at the end of each epoch. The model is fit for 500 training epochs, again, perhaps more than is needed.\n\nThe network configuration was not tuned for this and later experiments; an over-prescribed configuration was chosen to ensure that we could focus on the framing of the language model.", 
            "cell_type": "markdown"
        }, 
        {
            "attachments": {
                "image.png": {
                    "image/png": "[encoded data removed]"
                }
            }, 
            "metadata": {}, 
            "source": "![image.png](attachment:image.png)", 
            "cell_type": "markdown"
        }, 
        {
            "source": "\n# compile network\nmodel.compile(loss='categorical_crossentropy', optimizer='adam', metrics=['accuracy'])\n# fit network\nmodel.fit(X, y, epochs=500, verbose=2)", 
            "metadata": {
                "scrolled": true
            }, 
            "execution_count": null, 
            "cell_type": "code", 
            "outputs": []
        }, 
        {
            "metadata": {}, 
            "source": "After the model is fit, we test it by passing it a given word from the vocabulary and having the model predict the next word. Here we pass in \u2018Jack\u2018 by encoding it and calling model.predict_classes() to get the integer output for the predicted word. This is then looked up in the vocabulary mapping to give the associated word.\n\nThis process could then be repeated a few times to build up a generated sequence of words.\n\nTo make this easier, we wrap up the behavior in a function that we can call by passing in our model and the seed word.", 
            "cell_type": "markdown"
        }, 
        {
            "source": "# evaluate\nin_text = 'Jack'\nprint(in_text)\nencoded = tokenizer.texts_to_sequences([in_text])[0]\nencoded = np.array(encoded)\nyhat = model.predict_classes(encoded, verbose=0)\nfor word, index in tokenizer.word_index.items():\n\tif index == yhat:\n\t\tprint(word)", 
            "metadata": {}, 
            "execution_count": null, 
            "cell_type": "code", 
            "outputs": []
        }, 
        {
            "source": "def generate_seq(model, tokenizer, seed_text, n_words):\n\tin_text, result = seed_text, seed_text\n\t# generate a fixed number of words\n\tfor _ in range(n_words):\n\t\t# encode the text as integer\n\t\tencoded = tokenizer.texts_to_sequences([in_text])[0]\n\t\tencoded = np.array(encoded)\n\t\t# predict a word in the vocabulary\n\t\tyhat = model.predict_classes(encoded, verbose=0)\n\t\t# map predicted word index to word\n\t\tout_word = ''\n\t\tfor word, index in tokenizer.word_index.items():\n\t\t\tif index == yhat:\n\t\t\t\tout_word = word\n\t\t\t\tbreak\n\t\t# append to input\n\t\tin_text, result = out_word, result + ' ' + out_word\n\treturn result", 
            "metadata": {}, 
            "execution_count": null, 
            "cell_type": "code", 
            "outputs": []
        }, 
        {
            "source": "print(generate_seq(model, tokenizer, 'Jack', 6))", 
            "metadata": {
                "scrolled": false
            }, 
            "execution_count": null, 
            "cell_type": "code", 
            "outputs": []
        }, 
        {
            "metadata": {}, 
            "source": "This is a good first cut language model, but does not take full advantage of the LSTM\u2019s ability to handle sequences of input and disambiguate some of the ambiguous pairwise sequences by using a broader context.", 
            "cell_type": "markdown"
        }, 
        {
            "metadata": {}, 
            "source": "#  Model 2: Line-by-Line Sequence\n\nAnother approach is to split up the source text line-by-line, then break each line down into a series of words that build up.", 
            "cell_type": "markdown"
        }, 
        {
            "source": "from numpy import array\nfrom keras.preprocessing.text import Tokenizer\nfrom keras.utils import to_categorical\nfrom keras.preprocessing.sequence import pad_sequences\nfrom keras.utils.vis_utils import plot_model\nfrom keras.models import Sequential\nfrom keras.layers import Dense\nfrom keras.layers import LSTM\nfrom keras.layers import Embedding", 
            "metadata": {}, 
            "execution_count": null, 
            "cell_type": "code", 
            "outputs": []
        }, 
        {
            "source": "# Something like that:\n#X,\t\t\t\t\t\t\t\t\ty\n#_, _, _, _, _, Jack, \t\t\t\tand\n#_, _, _, _, Jack, and \t\t\t\tJill\n#_, _, _, Jack, and, Jill,\t\t\twent\n#_, _, Jack, and, Jill, went,\t\tup\n#_, Jack, and, Jill, went, up,\t\tthe\n#Jack, and, Jill, went, up, the,\t\thill", 
            "metadata": {}, 
            "execution_count": null, 
            "cell_type": "code", 
            "outputs": []
        }, 
        {
            "metadata": {}, 
            "source": "This approach may allow the model to use the context of each line to help the model in those cases where a simple one-word-in-and-out model creates ambiguity.\n\nIn this case, this comes at the cost of predicting words across lines, which might be fine for now if we are only interested in modeling and generating lines of text.\n\nNote that in this representation, we will require a padding of sequences to ensure they meet a fixed length input. This is a requirement when using Keras.\n\nFirst, we can create the sequences of integers, line-by-line by using the Tokenizer already fit on the source text.", 
            "cell_type": "markdown"
        }, 
        {
            "source": "from keras.preprocessing.sequence import pad_sequences\n\n# create line-based sequences\nsequences = list()\nfor line in data.split('\\n'):\n\tencoded = tokenizer.texts_to_sequences([line])[0]\n\tfor i in range(1, len(encoded)):\n\t\tsequence = encoded[:i+1]\n\t\tsequences.append(sequence)\nprint('Total Sequences: %d' % len(sequences))", 
            "metadata": {}, 
            "execution_count": null, 
            "cell_type": "code", 
            "outputs": []
        }, 
        {
            "metadata": {}, 
            "source": "Next, we can pad the prepared sequences. We can do this using the pad_sequences() function provided in Keras. This first involves finding the longest sequence, then using that as the length by which to pad-out all other sequences.", 
            "cell_type": "markdown"
        }, 
        {
            "source": "\n# pad input sequences\nmax_length = max([len(seq) for seq in sequences])\nsequences = pad_sequences(sequences, maxlen=max_length, padding='pre')\nprint('Max Sequence Length: %d' % max_length)", 
            "metadata": {}, 
            "execution_count": null, 
            "cell_type": "code", 
            "outputs": []
        }, 
        {
            "metadata": {}, 
            "source": "## Next, we can split the sequences into input and output elements, much like before.", 
            "cell_type": "markdown"
        }, 
        {
            "source": "# split into input and output elements\nsequences = array(sequences)\nX, y = sequences[:,:-1],sequences[:,-1]\ny = to_categorical(y, num_classes=vocab_size)", 
            "metadata": {}, 
            "execution_count": null, 
            "cell_type": "code", 
            "outputs": []
        }, 
        {
            "metadata": {}, 
            "source": "The model can then be de\fned as before, except the input sequences are now longer than a\nsingle word. Speci\fcally, they are max length-1 in length, -1 because when we calculated the\nmaximum length of sequences, they included the input and output elements.", 
            "cell_type": "markdown"
        }, 
        {
            "source": "# define the model\ndef define_model(vocab_size, max_length):\n    model = Sequential()\n    model.add(Embedding(vocab_size, 10, input_length=max_length-1))\n    model.add(LSTM(50))\n    model.add(Dense(vocab_size, activation='softmax'))\n    # compile network\n    model.compile(loss='categorical_crossentropy', optimizer='adam', metrics=['accuracy'])\n    # summarize defined model\n    model.summary()\n    plot_model(model, to_file='model.png', show_shapes=True)\n    return model", 
            "metadata": {}, 
            "execution_count": null, 
            "cell_type": "code", 
            "outputs": []
        }, 
        {
            "metadata": {}, 
            "source": "We can use the model to generate new sequences as before. The generate seq() function\ncan be updated to build up an input sequence by adding predictions to the list of input words\neach iteration.", 
            "cell_type": "markdown"
        }, 
        {
            "source": "# generate a sequence from a language model\ndef generate_seq(model, tokenizer, max_length, seed_text, n_words):\n    in_text = seed_text\n    # generate a fixed number of words\n    for _ in range(n_words):\n        # encode the text as integer\n        encoded = tokenizer.texts_to_sequences([in_text])[0]\n        # pre-pad sequences to a fixed length\n        encoded = pad_sequences([encoded], maxlen=max_length, padding='pre')\n        # predict probabilities for each word\n        yhat = model.predict_classes(encoded, verbose=0)\n        # map predicted word index to word\n        out_word = ''\n        for word, index in tokenizer.word_index.items():\n            if index == yhat:\n                out_word = word\n                break\n        # append to input\n        in_text += ' ' + out_word\n    return in_text", 
            "metadata": {}, 
            "execution_count": null, 
            "cell_type": "code", 
            "outputs": []
        }, 
        {
            "metadata": {}, 
            "source": "Running the example achieves a better \ft on the source data. The added context has allowed\nthe model to disambiguate some of the examples. There are still two lines of text that start\nwith \\Jack\" that may still be a problem for the network.", 
            "cell_type": "markdown"
        }, 
        {
            "source": "# define model\nmodel = define_model(vocab_size, max_length)\n# fit network\nmodel.fit(X, y, epochs=500, verbose=2)\n# evaluate model\n", 
            "metadata": {
                "scrolled": true
            }, 
            "execution_count": null, 
            "cell_type": "code", 
            "outputs": []
        }, 
        {
            "source": "print(generate_seq(model, tokenizer, max_length-1, 'Jack', 4))\nprint(generate_seq(model, tokenizer, max_length-1, 'Jill', 4))", 
            "metadata": {}, 
            "execution_count": null, 
            "cell_type": "code", 
            "outputs": []
        }, 
        {
            "metadata": {}, 
            "source": "At the end of the run, we generate two sequences with di\u000berent seed words: Jack and Jill.\nThe \frst generated line looks good, directly matching the source text. The second is a bit\nstrange. This makes sense, because the network only ever saw Jill within an input sequence,\nnot at the beginning of the sequence, so it has forced an output to use the word Jill", 
            "cell_type": "markdown"
        }, 
        {
            "metadata": {}, 
            "source": "#", 
            "cell_type": "markdown"
        }, 
        {
            "metadata": {}, 
            "source": "## Model 3: Two-Words-In, One-Word-Out Sequence", 
            "cell_type": "markdown"
        }, 
        {
            "metadata": {}, 
            "source": "We can use an intermediate between the one-word-in and the whole-sentence-in approaches\nand pass in a sub-sequences of words as input. This will provide a trade-o\u000b between the two\nframings allowing new lines to be generated and for generation to be picked up mid line. We will\nuse 3 words as input to predict one word as output. The preparation of the sequences is much\nlike the \frst example, except with di\u000berent o\u000bsets in the source sequence arrays, as follows:", 
            "cell_type": "markdown"
        }, 
        {
            "source": "# encode 2 words -> 1 word\nsequences = list()\nfor i in range(2, len(encoded)):\n    sequence = encoded[i-2:i+1]\n    sequences.append(sequence)\n    print('Total Sequences: %d' % len(sequences))", 
            "metadata": {}, 
            "execution_count": null, 
            "cell_type": "code", 
            "outputs": []
        }, 
        {
            "source": "# generate a sequence from a language model\ndef generate_seq(model, tokenizer, max_length, seed_text, n_words):\n    in_text = seed_text\n    # generate a fixed number of words\n    for _ in range(n_words):\n        # encode the text as integer\n        encoded = tokenizer.texts_to_sequences([in_text])[0]\n        # pre-pad sequences to a fixed length\n        encoded = pad_sequences([encoded], maxlen=max_length, padding='pre')\n        # predict probabilities for each word\n        yhat = model.predict_classes(encoded, verbose=0)\n        # map predicted word index to word\n        out_word = ''\n        for word, index in tokenizer.word_index.items():\n            if index == yhat:\n                out_word = word\n                break\n        # append to input\n        in_text += ' ' + out_word\n    return in_text\n", 
            "metadata": {
                "scrolled": true
            }, 
            "execution_count": null, 
            "cell_type": "code", 
            "outputs": []
        }, 
        {
            "source": "# define the model\ndef define_model(vocab_size, max_length):\n    model = Sequential()\n    model.add(Embedding(vocab_size, 10, input_length=max_length-1))\n    model.add(LSTM(50))\n    model.add(Dense(vocab_size, activation='softmax'))\n    # compile network\n    model.compile(loss='categorical_crossentropy', optimizer='adam', metrics=['accuracy'])\n    # summarize defined model\n    model.summary()\n    plot_model(model, to_file='model.png', show_shapes=True)\n    return model", 
            "metadata": {}, 
            "execution_count": null, 
            "cell_type": "code", 
            "outputs": []
        }, 
        {
            "source": "tokenizer = Tokenizer()\ntokenizer.fit_on_texts([data])\nencoded = tokenizer.texts_to_sequences([data])[0]\n# retrieve vocabulary size\nvocab_size = len(tokenizer.word_index) + 1\nprint('Vocabulary Size: %d' % vocab_size)\n# encode 2 words -> 1 word\nsequences = list()\nfor i in range(2, len(encoded)):\n    sequence = encoded[i-2:i+1]\n    sequences.append(sequence)\nprint('Total Sequences: %d' % len(sequences))\n# pad sequences\nmax_length = max([len(seq) for seq in sequences])\nsequences = pad_sequences(sequences, maxlen=max_length, padding='pre')\nprint('Max Sequence Length: %d' % max_length)\n# split into input and output elements\nsequences = array(sequences)\nX, y = sequences[:,:-1],sequences[:,-1]\ny = to_categorical(y, num_classes=vocab_size)\n# define model\nmodel = define_model(vocab_size, max_length)\n# fit network\nmodel.fit(X, y, epochs=500, verbose=2)", 
            "metadata": {}, 
            "execution_count": null, 
            "cell_type": "code", 
            "outputs": []
        }, 
        {
            "source": "# evaluate model\nprint(generate_seq(model, tokenizer, max_length-1, 'Jack and', 5))\nprint(generate_seq(model, tokenizer, max_length-1, 'And Jill', 3))\nprint(generate_seq(model, tokenizer, max_length-1, 'fell down', 5))\nprint(generate_seq(model, tokenizer, max_length-1, 'pail of', 5))", 
            "metadata": {}, 
            "execution_count": null, 
            "cell_type": "code", 
            "outputs": []
        }, 
        {
            "metadata": {}, 
            "source": "## Summary\nThe first start of line case generated correctly, but the second did not. The second case was\nan example from the 4th line, which is ambiguous with content from the \frst line. Perhaps a\nfurther expansion to 3 input words would be better. The two mid-line generation examples were\ngenerated correctly, matching the source text.\nWe can see that the choice of how the language model is framed and the requirements on\nhow the model will be used must be compatible. That careful design is required when using\nlanguage models in general, perhaps followed-up by spot testing with sequence generation to\ncon\frm model requirements have been met.", 
            "cell_type": "markdown"
        }
    ], 
    "nbformat_minor": 1
}